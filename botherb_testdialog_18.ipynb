{
  "nbformat": 4,
  "nbformat_minor": 0,
  "metadata": {
    "colab": {
      "provenance": []
    },
    "kernelspec": {
      "name": "python3",
      "display_name": "Python 3"
    },
    "language_info": {
      "name": "python"
    }
  },
  "cells": [
    {
      "cell_type": "markdown",
      "source": [
        "# Chatbot Neo4j Knowledge graph\n",
        "\n"
      ],
      "metadata": {
        "id": "I6NVTMkBZoNK"
      }
    },
    {
      "cell_type": "code",
      "execution_count": null,
      "metadata": {
        "id": "LwP0tBzWZmyg"
      },
      "outputs": [],
      "source": [
        "!pip install neo4j-driver\n",
        "!pip install sentence-transformers"
      ]
    },
    {
      "cell_type": "code",
      "source": [
        "#!pip install pyngrok\n",
        "!pip install pyngrok==4.1.1\n",
        "!pip install flask_ngrok\n",
        "!pip install line-bot-sdk\n",
        "!ngrok authtoken 2VdtRNXwme17FSHyeSwYc31YgbE_5VuchMnfVKeXRsw7GDdVE"
      ],
      "metadata": {
        "id": "Mz_x7SICF63U"
      },
      "execution_count": null,
      "outputs": []
    },
    {
      "cell_type": "markdown",
      "source": [
        "เชื่อมต่อกับ google sheet"
      ],
      "metadata": {
        "id": "YoocPlfZWZwi"
      }
    },
    {
      "cell_type": "code",
      "source": [
        "!pip install gspread"
      ],
      "metadata": {
        "id": "NgyCIijCXYGH"
      },
      "execution_count": null,
      "outputs": []
    },
    {
      "cell_type": "code",
      "source": [
        "from google.colab import auth\n",
        "auth.authenticate_user()"
      ],
      "metadata": {
        "id": "8EKUEakba7e2"
      },
      "execution_count": null,
      "outputs": []
    },
    {
      "cell_type": "code",
      "source": [
        "sheet_id = '1pc748jmYo1zkjwCgTequcixAUobVRxK7li5nc8EHwpA'\n",
        "worksheet_name = \"sheet1\""
      ],
      "metadata": {
        "id": "0TeQe6xWa9ma"
      },
      "execution_count": null,
      "outputs": []
    },
    {
      "cell_type": "code",
      "source": [
        "import gspread"
      ],
      "metadata": {
        "id": "qB1zqIAsbAsr"
      },
      "execution_count": null,
      "outputs": []
    },
    {
      "cell_type": "code",
      "source": [
        "from google.auth import default"
      ],
      "metadata": {
        "id": "8mGbEFGhbRtm"
      },
      "execution_count": null,
      "outputs": []
    },
    {
      "cell_type": "code",
      "source": [
        "creds, _=default()"
      ],
      "metadata": {
        "id": "5fUOjqZibKSN"
      },
      "execution_count": null,
      "outputs": []
    },
    {
      "cell_type": "code",
      "source": [
        "gc = gspread.authorize(creds)"
      ],
      "metadata": {
        "id": "hAs9PUS2bQOJ"
      },
      "execution_count": null,
      "outputs": []
    },
    {
      "cell_type": "code",
      "source": [
        "sh = gc.open_by_key(sheet_id)"
      ],
      "metadata": {
        "id": "jEI7T5gGbg4c"
      },
      "execution_count": null,
      "outputs": []
    },
    {
      "cell_type": "code",
      "source": [
        "sh.worksheets()"
      ],
      "metadata": {
        "colab": {
          "base_uri": "https://localhost:8080/"
        },
        "id": "_PlmXTr3bnk0",
        "outputId": "778cfbf2-1f30-4720-8f0c-82994691c53b"
      },
      "execution_count": null,
      "outputs": [
        {
          "output_type": "execute_result",
          "data": {
            "text/plain": [
              "[<Worksheet 'sheet1' id:0>]"
            ]
          },
          "metadata": {},
          "execution_count": 11
        }
      ]
    },
    {
      "cell_type": "code",
      "source": [
        "worksheet = sh.worksheet(worksheet_name)"
      ],
      "metadata": {
        "id": "Llit1UGxbvUu"
      },
      "execution_count": null,
      "outputs": []
    },
    {
      "cell_type": "code",
      "source": [
        "worksheet.get_all_records()"
      ],
      "metadata": {
        "id": "pGNX_DiUb1Zs"
      },
      "execution_count": null,
      "outputs": []
    },
    {
      "cell_type": "code",
      "source": [
        "from google.colab import auth\n",
        "auth.authenticate_user()\n",
        "\n",
        "import gspread\n",
        "from google.auth import default\n",
        "creds, _ = default()\n",
        "\n",
        "gc = gspread.authorize(creds)\n"
      ],
      "metadata": {
        "id": "L7RAysLgwVBi"
      },
      "execution_count": null,
      "outputs": []
    },
    {
      "cell_type": "markdown",
      "source": [
        "#Connection Neo4j"
      ],
      "metadata": {
        "id": "G2BbZsiDZ3G3"
      }
    },
    {
      "cell_type": "code",
      "source": [
        "from neo4j import GraphDatabase, basic_auth\n",
        "\n",
        "driver = GraphDatabase.driver(\n",
        "  \"neo4j+s://e6edf238.databases.neo4j.io\",\n",
        "  auth=basic_auth(\"neo4j\", \"MY3uLzRnkio9nGTuz5D_mnCe7qyHeETw7hS_UETt0Pg\"))"
      ],
      "metadata": {
        "id": "IhDBD7gmZ1BS"
      },
      "execution_count": null,
      "outputs": []
    },
    {
      "cell_type": "code",
      "source": [
        "#from pythainlp import word_tokenize"
      ],
      "metadata": {
        "id": "72cyS6LT2ePq"
      },
      "execution_count": null,
      "outputs": []
    },
    {
      "cell_type": "markdown",
      "source": [
        "##Build Entities corpus"
      ],
      "metadata": {
        "id": "MDKCqHxraRk0"
      }
    },
    {
      "cell_type": "code",
      "source": [
        "cypher_query = '''\n",
        "MATCH (n) return n.name as name;\n",
        "'''\n",
        "Entity_corpus = []\n",
        "with driver.session() as session:\n",
        "    results = session.run(cypher_query)\n",
        "    for record in results:\n",
        "        Entity_corpus.append(record['name'])\n",
        "    # using set() to remove duplicated from list\n",
        "    Entity_corpus = list(set(Entity_corpus))\n",
        "print(Entity_corpus)\n",
        "\n",
        "cypher_query = '''\n",
        "MATCH (n)-[r]-(m) return type(r) as name;\n",
        "'''\n",
        "Relation_corpus = []\n",
        "with driver.session() as session:\n",
        "    results = session.run(cypher_query)\n",
        "    for record in results:\n",
        "        Relation_corpus.append(record['name'])\n",
        "    # using set() to remove duplicated from list\n",
        "    Relation_corpus = list(set(Relation_corpus))\n",
        "print(Relation_corpus)\n",
        "\n",
        "cypher_query = '''\n",
        "MATCH (n:ทักทาย) return n.hello as name;\n",
        "'''\n",
        "greeting_corpus = []\n",
        "with driver.session() as session:\n",
        "    results = session.run(cypher_query)\n",
        "    for record in results:\n",
        "        greeting_corpus.append(record['name'])\n",
        "    # using set() to remove duplicated from list\n",
        "    greeting_corpus = list(set(greeting_corpus))\n",
        "print(Relation_corpus)"
      ],
      "metadata": {
        "id": "soDX8DauaXjS",
        "colab": {
          "base_uri": "https://localhost:8080/"
        },
        "outputId": "c0299697-77a6-4ced-f258-e5b65fb94eec"
      },
      "execution_count": null,
      "outputs": [
        {
          "output_type": "stream",
          "name": "stdout",
          "text": [
            "['การเลือกรับประทานอาหาร', 'หลงทางในเส้นทางที่ใช้อยู่เป็นประจำ', 'กระเจี๊ยบแดง', 'ตกขาวผิดปกติ', 'โรคหลอดเลือดแดงใหญ่โป่งพอง', 'เชื้อชาติแอฟริกัน-อเมริกัน', 'ชาตามปลายนิ้วมือและนิ้วเท้า', 'โรคตา', 'ปัสสาวะบ่อยขึ้นหิวน้ำมากขึ้น', 'การรับประทานยาเม็ดคุมกำเนิด', 'อาเจียนหรือคลื่นไส้', 'โรคหลอดเลือดหัวใจ', 'เจ็บหน้าอก', 'พันธุกรรม', 'หลีกเลี่ยงการบริโภคอาหารที่มีไขมันอิ่มตัวสูงและอาหารรสเค็มจัด', 'ภาวะสมองขาดเลือดชั่วขณะ', None, 'น้ำตาลในเลือดสูง', 'ออกกำลังกายเป็นประจำ', 'ปวดเมื่อยตามตัว', 'การติดเชื้อ', 'ควบคุมน้ำหนัก', 'เวียนศรีษะ/ปวดศรีษะ', 'กระเทียมสด', 'รับประทานผลไม้และผัก', 'พูดหรือถามเรื่องเดิมที่เพิ่งเกิดขึ้นซ้ำๆ', 'การพบปะพูดคุยกับผู้อื่นบ่อยๆ', 'การทานอาหารที่มีไขมันมาก', 'ไอเรื้อรัง', 'โรคตับแข็ง', 'ภาวะขาดสารอาหาร', 'โรคเบาหวาน', 'การได้รับบาดเจ็บที่ศีรษะอย่างรุนแรง', 'ควบคุมระดับไขมันในเลือด', 'ภาวะฮีโมโครมาโตซิส', 'ไคร้เครือ', 'ภาวะหลอดเลือดสมองแตก', 'มะระขี้นก', 'ขี้เหล็ก', 'การขาดสารต้านทริปซินอัลฟ่าวัน', 'ขาดการออกกำลังกาย', 'อารมณ์แปรปรวน', 'ความผิดปกติของตับอ่อน', 'โรคมะเร็ง', 'โรคเมตาบอลิก', 'โรคซิสติกไฟโบรซิส', 'ไวรัสตับอักเสบเรื้อรัง', 'ตรวจสอบน้ำหนักตัวเป็นประจำ', 'โรคสมองเสื่อม', 'ใบบัวบก', 'มะตูม', 'หัวใจล้มเหลว', 'โรคข้อเข่าเสื่อม', 'โรคไตเรื้อรัง', 'เห็ดหลินจือ', 'การขาดวิตามินบี12', 'ลดการดื่มแอลกอฮอล์', 'หลอดเลือดในไตแคบลง', 'โรควิลสัน', 'สูญเสียความทรงจำ', 'น้ำหนักลด', 'ปัสสาวะมีเลือดปน', 'ฟ้าทะลายโจร', 'โรคในช่องปาก', 'ฮอร์โมน', 'ภาวะหลอดเลือดสมองตีบหรืออุดตัน', 'หายใจถี่', 'รับประทานอาหารเพื่อสุขภาพ', 'เจ็บปวดหรือชาบริเวณร่างกาย', 'หลีกเลี่ยงแสงแดด', 'เบื่ออาหาร', 'โรคมะเร็งตับ', 'ว่านหางจระเข้', 'การรับแคลอรี่มากเกินไป', 'คันตามผิวหนังตลอดเวลา', 'โรคหลอดเลือดสมอง', 'โรคผิวหนัง', 'พรมมิ', 'โรคเรื้อรัง', 'ผลข้างเคียงของการทานยา', 'หยุดหายใจขณะหลับ', 'มีเลือดกำเดาไหล', 'อ่อนเพลีย', 'การตั้งครรภ์', 'ซึมเศร้า', 'หลอดเลือดในดวงตา', 'การหลีกเลี่ยงการดื่มแอลกอฮอล์', 'อายุ', 'แผลหายช้า', 'โรคกระดูก', 'การชอบรับประทานอาหารรสจัด', 'การสูบบุหรี่', 'หลีกเลี่ยงสารหรือยาที่จะทำให้เกิดอันตรายต่อสมอง', 'พูดไม่ชัด', 'ncds', 'การฝึกฝนสมอง', 'งดการดื่มแอลกอฮอล์', 'ความเครียด', 'โรคความดันโลหิตสูง', 'ตาพร่ามัว', 'ควบคุมน้ำหนักตัวให้เหมาะสม', 'ทำอะไรซ้ำๆ', 'การใช้สารเสพติดหรือยาเสพติดในร่างกาย', 'การสูดดมควันบุหรี่มือสอง', 'สับสนเรื่องวันเวลาสานถที่', 'หลีกเลี่ยงการรับประทานอาหารที่มีคลอเรสเตอรอลและไขมันอิ่มตัวสูง', 'โรคอ้วน', 'มีกล้ามเนื้อกระตุกและเป็นตะคริว', 'ดื่มแอลกอฮอล์', 'หญ้าหนวดแมว', 'มะเขือพวง', 'ลดการกินอาหารโซเดียมสูง', 'อุจจาระเป็นสีดำหรือมีเลือดปน', 'มะขามป้อม', 'เลิกสูบบุหรี่', 'อ่อนแรง', 'โรคกาแลคโตซีเมีย', 'การเลิกสูบบุหรี่', 'ลดการกินอาหารน้ำตาลสูง', 'หลีกเลี่ยงการใช้สารเสพติด', 'ลดการกินอาหารไขมันสูง', 'หญ้างวงช้างดอกขาว', 'การหลั่งอินซูลินบกพร่อง', 'โรคหัวใจ', 'ตำลึง', 'การขาดการนอนหลับ']\n",
            "['ปัจจัยเสี่ยงของโรคสมองเสื่อม', 'question', 'ภาวะแทรกซ้อนของโรคตับแข็ง', 'อาการโรคมะเร็ง', 'ปัจจัยเสี่ยงของโรคเบาหวาน', 'ปัจจัยเสี่ยงของโรคความดันโลหิตสูง', 'สาเหตุของโรคไตเรื้อรัง', 'กลุ่มโรคncds', 'วิธีป้องกันของโรคอ้วน', 'อาการโรคสมองเสื่อม', 'อาการโรคไตเรื้อรัง', 'วิธีป้องกันของโรคสมองเสื่อม', 'ภาวะแทรกซ้อนของโรคเบาหวาน', 'สาเหตุของโรคความดันโลหิตสูง', 'next_question', 'next', 'ปัจจัยเสี่ยงของโรคตับแข็ง', 'อาการโรคหลอดเลือดสมอง', 'ปัจจัยเสี่ยงของโรคไตเรื้อรัง', 'อาการโรคอ้วน', 'สมุนไพรของโรคตับแข็ง', 'อาการโรคความดันโลหิตสูง', 'ปัจจัยเสี่ยงของโรคอ้วน', 'วิธีป้องกันของโรคไตเรื้อรัง', 'ปัจจัยเสี่ยงของโรคหลอดเลือดสมอง', 'สาเหตุที่เกิดจากพฤติกรรมของโรคเบาหวาน', 'ภาวะแทรกซ้อนของโรคความดันโลหิตสูง', 'วิธีป้องกันของโรคตับแข็ง', 'สาเหตุของโรคอ้วน', 'สมุนไพรของโรคเบาหวาน', 'อาการโรคเบาหวาน', 'ภาวะแทรกซ้อนของโรคอ้วน', 'สาเหตุของโรคตับแข็ง', 'ภาวะแทรกซ้อนของโรคหลอดเลือดสมอง', 'สมุนไพรของโรคความดันโลหิตสูง', 'ปัจจัยอื่นๆเกี่ยวกับโรคอ้วน', 'สมุนไพรของโรคสมองเสื่อม', 'อาการโรคตับแข็ง', 'วิธีป้องกันของโรคความดันโลหิตสูง', 'thankyou', 'วิธีป้องกันของโรคมะเร็ง', 'วิธีป้องกันของโรคหลอดเลือดสมอง', 'summarize', 'สาเหตุของโรคหลอดเลือดสมอง', 'สาเหตุของโรคสมองเสื่อม', 'สาเหตุของโรคมะเร็ง', 'สมุนไพรของโรคมะเร็ง', 'สมุนไพรของโรคไตเรื้อรัง', 'วิธีป้องกันของโรคเบาหวาน', 'สาเหตุของโรคเบาหวาน']\n",
            "['ปัจจัยเสี่ยงของโรคสมองเสื่อม', 'question', 'ภาวะแทรกซ้อนของโรคตับแข็ง', 'อาการโรคมะเร็ง', 'ปัจจัยเสี่ยงของโรคเบาหวาน', 'ปัจจัยเสี่ยงของโรคความดันโลหิตสูง', 'สาเหตุของโรคไตเรื้อรัง', 'กลุ่มโรคncds', 'วิธีป้องกันของโรคอ้วน', 'อาการโรคสมองเสื่อม', 'อาการโรคไตเรื้อรัง', 'วิธีป้องกันของโรคสมองเสื่อม', 'ภาวะแทรกซ้อนของโรคเบาหวาน', 'สาเหตุของโรคความดันโลหิตสูง', 'next_question', 'next', 'ปัจจัยเสี่ยงของโรคตับแข็ง', 'อาการโรคหลอดเลือดสมอง', 'ปัจจัยเสี่ยงของโรคไตเรื้อรัง', 'อาการโรคอ้วน', 'สมุนไพรของโรคตับแข็ง', 'อาการโรคความดันโลหิตสูง', 'ปัจจัยเสี่ยงของโรคอ้วน', 'วิธีป้องกันของโรคไตเรื้อรัง', 'ปัจจัยเสี่ยงของโรคหลอดเลือดสมอง', 'สาเหตุที่เกิดจากพฤติกรรมของโรคเบาหวาน', 'ภาวะแทรกซ้อนของโรคความดันโลหิตสูง', 'วิธีป้องกันของโรคตับแข็ง', 'สาเหตุของโรคอ้วน', 'สมุนไพรของโรคเบาหวาน', 'อาการโรคเบาหวาน', 'ภาวะแทรกซ้อนของโรคอ้วน', 'สาเหตุของโรคตับแข็ง', 'ภาวะแทรกซ้อนของโรคหลอดเลือดสมอง', 'สมุนไพรของโรคความดันโลหิตสูง', 'ปัจจัยอื่นๆเกี่ยวกับโรคอ้วน', 'สมุนไพรของโรคสมองเสื่อม', 'อาการโรคตับแข็ง', 'วิธีป้องกันของโรคความดันโลหิตสูง', 'thankyou', 'วิธีป้องกันของโรคมะเร็ง', 'วิธีป้องกันของโรคหลอดเลือดสมอง', 'summarize', 'สาเหตุของโรคหลอดเลือดสมอง', 'สาเหตุของโรคสมองเสื่อม', 'สาเหตุของโรคมะเร็ง', 'สมุนไพรของโรคมะเร็ง', 'สมุนไพรของโรคไตเรื้อรัง', 'วิธีป้องกันของโรคเบาหวาน', 'สาเหตุของโรคเบาหวาน']\n"
          ]
        }
      ]
    },
    {
      "cell_type": "code",
      "source": [
        "# Load the BERT model. Various models trained on Natural Language Inference (NLI) https://github.com/UKPLab/sentence-transformers/blob/master/docs/pretrained-models/nli-models.md and\n",
        "# Semantic Textual Similarity are available https://github.com/UKPLab/sentence-transformers/blob/master/docs/pretrained-models/sts-models.md\n",
        "from sentence_transformers import SentenceTransformer, util\n",
        "model = SentenceTransformer('sentence-transformers/paraphrase-multilingual-mpnet-base-v2')"
      ],
      "metadata": {
        "id": "_LTw1foUaep5"
      },
      "execution_count": null,
      "outputs": []
    },
    {
      "cell_type": "code",
      "source": [
        "import numpy as np\n"
      ],
      "metadata": {
        "id": "afL2A5-glTk6"
      },
      "execution_count": null,
      "outputs": []
    },
    {
      "cell_type": "code",
      "source": [
        "\n",
        "\n",
        "#greeting_corpus = [\"สวัสดีครับ\",\"ดีจ้า\"]\n",
        "corpus_vec = model.encode(Entity_corpus, convert_to_tensor=True,normalize_embeddings=True)\n",
        "relation_vec = model.encode(Relation_corpus, convert_to_tensor=True,normalize_embeddings=True)\n",
        "greeting_vec = model.encode(greeting_corpus, convert_to_tensor=True,normalize_embeddings=True)\n",
        "\n",
        "\n",
        "\n",
        "\n",
        "def Search_entity(ask,user_id,line_bot_api,tk):\n",
        "    #Compute embedding for both lists\n",
        "    ask_vec = model.encode(ask, convert_to_tensor=True,normalize_embeddings=True)\n",
        "\n",
        "    #Compute cosine-similarities\n",
        "    entity_cosine_scores = util.cos_sim(corpus_vec, ask_vec)\n",
        "    #ทำให้ทศนิยมมากขึ่้น\n",
        "    #print(entity_cosine_scores)\n",
        "    Entity_np = np.array(entity_cosine_scores)\n",
        "    #print(Entity_np)\n",
        "    Match_entity = Entity_corpus[np.argmax(entity_cosine_scores)]\n",
        "    #Compute cosine-similarities\n",
        "    relation_cosine_scores = util.cos_sim(relation_vec, ask_vec)\n",
        "    Relation_np = np.array(relation_cosine_scores)\n",
        "    Match_relation = Relation_corpus[np.argmax(Relation_np)]\n",
        "    #greeting\n",
        "    greeting_scores = util.cos_sim(greeting_vec, ask_vec)\n",
        "    greeting_np = np.array(greeting_scores)\n",
        "    Match_greeting = greeting_corpus[np.argmax(greeting_np)]\n",
        "    ##############################################\n",
        "    print(\"entity_score\",Entity_np[np.argmax(Entity_np)])\n",
        "    print(\"relation_score\",Relation_np[np.argmax(Relation_np)])\n",
        "    if greeting_np[np.argmax(greeting_np)] > 0.7 :\n",
        "       n=4\n",
        "       My_cypher = [f\"MATCH (n)-[r]->(p) where n.hello ='{Match_greeting}' return n.name,n.description,n.arkname,n.image\"]\n",
        "       return greeting_reply(line_bot_api,tk,My_cypher)\n",
        "\n",
        "\n",
        "\n",
        "    elif Relation_np[np.argmax(Relation_np)] > 0.65 and Relation_np[np.argmax(Relation_np)]>Entity_np[np.argmax(Entity_np)]:\n",
        "        n=1\n",
        "        My_cypher = [f\"MATCH (n)-[r]->(p) WHERE type(r) ='{Match_relation}' RETURN n.name,r.name,p.name,p.description,type(r) limit 10\"]\n",
        "\n",
        "        return quick_reply_relationship(line_bot_api, tk, My_cypher)\n",
        "\n",
        "\n",
        "    # Cypher sample\n",
        "    elif Entity_np[np.argmax(Entity_np)] > 0.75:\n",
        "        n=2\n",
        "        My_cypher = [f\"MATCH (n)-[r]-(p) WHERE p.name ='{Match_entity}'  RETURN p.name,p.description,p.image limit 10 \"]\n",
        "        return entity_respons(line_bot_api,tk,My_cypher)\n",
        "\n",
        "    else:\n",
        "        text_message = \"ไม่มีข้อมูลในคลังความรู้ 😔\"\n",
        "        line_bot_api.reply_message(tk, TextSendMessage(text=text_message))\n",
        "\n"
      ],
      "metadata": {
        "id": "bWoSdkX_argE"
      },
      "execution_count": null,
      "outputs": []
    },
    {
      "cell_type": "code",
      "source": [
        "def entity_respons(line_bot_api,tk,result):\n",
        "    print(\"เข้า entity_Res\")\n",
        "    My_cypher = result\n",
        "    quick_reply_button = QuickReplyButton(\n",
        "        action=MessageAction(label=\"เมนู\", text=\"เมนู\")\n",
        "    )\n",
        "    quick_reply = QuickReply(\n",
        "      items=[quick_reply_button]\n",
        "    )\n",
        "\n",
        "    with driver.session() as session:\n",
        "            for Qcypher in My_cypher:\n",
        "              result = session.run(Qcypher)\n",
        "              for record in result:\n",
        "                if(str(record['p.description']))==\"None\":\n",
        "                  text_message = \"ไม่มีข้อมูลในคลังความรู้ 🤯\"\n",
        "                  return line_bot_api.reply_message(tk, TextSendMessage(text=text_message))\n",
        "                elif (str(record['p.description']))!=\"None\" and (str(record['p.image']))!= \"None\":\n",
        "                  print(\"image\")\n",
        "                  text_message = str(record['p.name'])+\" \"+str(record['p.description'])\n",
        "                  url_pattern = \"https://lh3.googleusercontent.com/d/\"+str(record['p.image'])\n",
        "                  image_url=ImageSendMessage(original_content_url=url_pattern, preview_image_url=url_pattern)\n",
        "                  line_bot_api.reply_message(tk, [image_url, TextSendMessage(text=text_message,quick_reply=quick_reply)])\n",
        "                else:\n",
        "                  print(\"เข้า else\")\n",
        "                  text_message = str(record['p.name'])+\" \"+str(record['p.description'])\n",
        "                  #url_pattern = \"https://lh3.googleusercontent.com/d/\"+str(record['p.image'])\n",
        "                  #image_url=ImageSendMessage(original_content_url=url_pattern, preview_image_url=url_pattern)\n",
        "                  line_bot_api.reply_message(tk, [TextSendMessage(text=text_message,quick_reply=quick_reply)])\n",
        "                  #line_bot_api.reply_message(tk, TextSendMessage(text=text_message,quick_reply=quick_reply))\n",
        "\n"
      ],
      "metadata": {
        "id": "bClXszPL2RqP"
      },
      "execution_count": null,
      "outputs": []
    },
    {
      "cell_type": "code",
      "source": [
        "Search_entity(\"โรคเบาหวาน\",\"Ucc3e077cff6d7f39dc73f1ead7cc39e0\",\"11\",\"11\")"
      ],
      "metadata": {
        "id": "T5RpHfg0E9mg"
      },
      "execution_count": null,
      "outputs": []
    },
    {
      "cell_type": "code",
      "source": [
        "reply_msg(\"อาการโรคเบาหวาน\",\"Ucc3e077cff6d7f39dc73f1ead7cc39e0\",\"11\",\"11\")"
      ],
      "metadata": {
        "id": "1_xHeZeTF6u-",
        "colab": {
          "base_uri": "https://localhost:8080/",
          "height": 175
        },
        "outputId": "bbe55db4-bd5a-4d64-99a5-b44ddbcb26a8"
      },
      "execution_count": null,
      "outputs": [
        {
          "output_type": "error",
          "ename": "NameError",
          "evalue": "ignored",
          "traceback": [
            "\u001b[0;31m---------------------------------------------------------------------------\u001b[0m",
            "\u001b[0;31mNameError\u001b[0m                                 Traceback (most recent call last)",
            "\u001b[0;32m<ipython-input-21-74d64fdb5862>\u001b[0m in \u001b[0;36m<cell line: 1>\u001b[0;34m()\u001b[0m\n\u001b[0;32m----> 1\u001b[0;31m \u001b[0mreply_msg\u001b[0m\u001b[0;34m(\u001b[0m\u001b[0;34m\"อาการโรคเบาหวาน\"\u001b[0m\u001b[0;34m,\u001b[0m\u001b[0;34m\"Ucc3e077cff6d7f39dc73f1ead7cc39e0\"\u001b[0m\u001b[0;34m,\u001b[0m\u001b[0;34m\"11\"\u001b[0m\u001b[0;34m,\u001b[0m\u001b[0;34m\"11\"\u001b[0m\u001b[0;34m)\u001b[0m\u001b[0;34m\u001b[0m\u001b[0;34m\u001b[0m\u001b[0m\n\u001b[0m",
            "\u001b[0;31mNameError\u001b[0m: name 'reply_msg' is not defined"
          ]
        }
      ]
    },
    {
      "cell_type": "code",
      "source": [
        "def check_user_id(line_bot_api,tk,user_id,msg):\n",
        "# Open our new sheet and add some data.\n",
        "  worksheet = gc.open_by_key('1pc748jmYo1zkjwCgTequcixAUobVRxK7li5nc8EHwpA').sheet1\n",
        "  id_to_check = user_id\n",
        "  all_values = worksheet.get_all_values()\n",
        "  frow = None\n",
        "  for row_number ,row_data in enumerate(worksheet.col_values(1),start=1):\n",
        "    if row_data == user_id:\n",
        "        frow = row_number\n",
        "        print(\"frow\", frow)\n",
        "\n",
        "\n",
        "  # ตรวจสอบว่าข้อมูลมีอยู่แล้วหรือไม่\n",
        "  data_exists = any([id_to_check in row for row in all_values])\n",
        "  print(\"msg\",msg)\n",
        "  if data_exists:\n",
        "      if (msg == \"ประเมินโรคเบาหวาน\" or worksheet.cell(frow, 2).value == \"Evaluate\" or msg == \"ประเมินโรคความดันโลหิตสูง\" or msg == \"ประเมินโรคอ้วน\" or msg == \"ประเมินโรคตับแข็ง\" or msg == \"ประเมินโรคมะเร็ง\" or msg == \"ประเมินโรคหลอดเลือดสมอง\" or msg == \"ประเมินโรคสมองเสื่อม\" or msg == \"ประเมินโรคไตเรื้อรัง\"):\n",
        "            estimate(msg,user_id,line_bot_api,tk)\n",
        "      elif (msg == \"เมนู\" or msg == \"menu\" or msg == \"Menu\"):\n",
        "            return_message(line_bot_api,tk,user_id,msg)\n",
        "      elif (msg == \"ประเมิน\"):\n",
        "            return_message(line_bot_api,tk,user_id,msg)\n",
        "      elif (msg == \"สอบถาม\"):\n",
        "            return_message(line_bot_api,tk,user_id,msg)\n",
        "      elif (msg == \"สมุนไพร\"):\n",
        "            return_message(line_bot_api,tk,user_id,msg)\n",
        "      elif (msg == \"อาการ\"):\n",
        "            return_message(line_bot_api,tk,user_id,msg)\n",
        "      elif (msg == \"สาเหตุ\"):\n",
        "            return_message(line_bot_api,tk,user_id,msg)\n",
        "      elif (msg == \"วิธีป้องกัน\"):\n",
        "            return_message(line_bot_api,tk,user_id,msg)\n",
        "      else:\n",
        "        print(\"เรียก entity_if\")\n",
        "        Search_entity(msg,user_id,line_bot_api,tk)\n",
        "\n",
        "  else:\n",
        "\n",
        "      data_to_write = [user_id]\n",
        "      col_a_length = len(worksheet.col_values(1))\n",
        "      cell_to_update = f'A{col_a_length + 1}'  # ทำการหาเซลล์ที่ต้องการอัปเดต\n",
        "      worksheet.update(cell_to_update, user_id)\n",
        "      # หากข้อมูลยังไม่มีอยู่, ทำการเพิ่มข้อมูล\n",
        "      #data_to_write = [user_id]\n",
        "      #worksheet.append_row(data_to_write)\n",
        "      #worksheet.insert_row(data_to_write,index=2)\n",
        "      print(\"msg_check\",msg)\n",
        "      print(\"เพิ่มข้อมูลเรียบร้อยแล้ว\")\n",
        "      if  (msg == \"ประเมินโรคเบาหวาน\" or msg == \"ประเมินโรคความดันโลหิตสูง\" or msg == \"ประเมินโรคอ้วน\" or msg == \"ประเมินโรคตับแข็ง\" or msg == \"ประเมินโรคมะเร็ง\" or msg == \"ประเมินโรคหลอดเลือดสมอง\" or msg == \"ประเมินโรคสมองเสื่อม\" or msg == \"ประเมินโรคไตเรื้อรัง\"):\n",
        "            estimate(msg,user_id,line_bot_api,tk)\n",
        "      elif (msg == \"เมนู\" or msg == \"menu\" or msg == \"Menu\"):\n",
        "            return_message(line_bot_api,tk,user_id,msg)\n",
        "      elif (msg == \"ประเมิน\"):\n",
        "            return_message(line_bot_api,tk,user_id,msg)\n",
        "      elif (msg == \"สอบถาม\"):\n",
        "            return_message(line_bot_api,tk,user_id,msg)\n",
        "      elif (msg == \"สมุนไพร\"):\n",
        "            return_message(line_bot_api,tk,user_id,msg)\n",
        "      elif (msg == \"อาการ\"):\n",
        "            return_message(line_bot_api,tk,user_id,msg)\n",
        "      elif (msg == \"สาเหตุ\"):\n",
        "            return_message(line_bot_api,tk,user_id,msg)\n",
        "      elif (msg == \"วิธีป้องกัน\"):\n",
        "            return_message(line_bot_api,tk,user_id,msg)\n",
        "      else:\n",
        "        print(\"เรียก entity\")\n",
        "        Search_entity(msg,user_id,line_bot_api,tk)\n",
        "\n"
      ],
      "metadata": {
        "id": "DsP1CxALAhBa"
      },
      "execution_count": null,
      "outputs": []
    },
    {
      "cell_type": "code",
      "source": [
        "def estimate(msg,user_id,line_bot_api,tk):\n",
        "    type_msg = \"\"\n",
        "    n=2\n",
        "    count_estimate = 0\n",
        "    actual_status = '1'\n",
        "    status_check = '1'\n",
        "    send_loop = \"\"\n",
        "    user_id_column = worksheet.col_values(1)\n",
        "    cell = worksheet.find(user_id)\n",
        "    if (user_id in user_id_column) and (worksheet.cell(cell.row, 2).value != \"Evaluate\"):\n",
        "        # หา cell ที่มี user_id และอัปเดตค่า status ในคอลัมน์ B\n",
        "        worksheet.update_cell(cell.row, 2, \"Evaluate\")\n",
        "        worksheet.update_cell(cell.row, 3, actual_status)\n",
        "        worksheet.update_cell(cell.row, 4, msg)\n",
        "        worksheet.update_cell(cell.row, 17, status_check)\n",
        "        type_msg = msg\n",
        "\n",
        "    elif (user_id in user_id_column) and (worksheet.cell(cell.row, 2).value == \"Evaluate\"):\n",
        "         type_msg = worksheet.cell(cell.row, 4).value\n",
        "         actual_status = worksheet.cell(cell.row, 3).value\n",
        "         status_check = worksheet.cell(cell.row, 17).value\n",
        "         if (actual_status == '2'):\n",
        "             if(msg == \"ใช่\" or msg ==\"เคย\" or msg == \"มี\" or msg == \"สูบ\"):\n",
        "                worksheet.update_cell(cell.row, 5, '1')\n",
        "                worksheet.update_cell(cell.row, 17, '2')\n",
        "             elif(msg == \"ไม่ใช่\" or msg ==\"ไม่เคย\" or msg == \"ไม่มี\" or msg == \"ไม่สูบ\" or msg == \"ไม่\"):\n",
        "                worksheet.update_cell(cell.row, 17, '2')\n",
        "                worksheet.update_cell(cell.row, 5, '0')\n",
        "             elif (msg == \"ออกจากการประเมิน\"):\n",
        "                 worksheet.update_cell(cell.row, 2, \" \")\n",
        "                 worksheet.update_cell(cell.row, 3, \" \")\n",
        "                 worksheet.update_cell(cell.row, 4, \" \")\n",
        "                 worksheet.update_cell(cell.row, 17, \" \")\n",
        "                 actual_status = '5'\n",
        "                 Carousel=response_Carousel()\n",
        "                 line_bot_api.reply_message(tk,Carousel)\n",
        "             else:\n",
        "                send_loop = \"loop\"\n",
        "                actual_status = status_check\n",
        "         elif (actual_status == '3'):\n",
        "              if(msg == \"ใช่\" or msg ==\"เคย\" or msg == \"มี\" or msg == \"สูบ\"):\n",
        "                worksheet.update_cell(cell.row, 6, '1')\n",
        "                worksheet.update_cell(cell.row, 17, '3')\n",
        "              elif(msg == \"ไม่ใช่\" or msg ==\"ไม่เคย\" or msg == \"ไม่มี\" or msg == \"ไม่สูบ\"or msg == \"ไม่\"):\n",
        "                worksheet.update_cell(cell.row, 17, '3')\n",
        "                worksheet.update_cell(cell.row, 6, '0')\n",
        "              elif (msg == \"ออกจากการประเมิน\"):\n",
        "                 worksheet.update_cell(cell.row, 2, \" \")\n",
        "                 worksheet.update_cell(cell.row, 3, \" \")\n",
        "                 worksheet.update_cell(cell.row, 4, \" \")\n",
        "                 worksheet.update_cell(cell.row, 17, \" \")\n",
        "                 actual_status = '5'\n",
        "                 Carousel=response_Carousel()\n",
        "                 line_bot_api.reply_message(tk,Carousel)\n",
        "              else:\n",
        "                send_loop = \"loop\"\n",
        "                actual_status = status_check\n",
        "         elif (actual_status == '4'):\n",
        "              if(msg == \"ใช่\" or msg ==\"เคย\" or msg == \"มี\" or msg == \"สูบ\"):\n",
        "                worksheet.update_cell(cell.row, 17, '4')\n",
        "                worksheet.update_cell(cell.row, 7, '1')\n",
        "              elif(msg == \"ไม่ใช่\" or msg ==\"ไม่เคย\" or msg == \"ไม่มี\" or msg == \"ไม่สูบ\"or msg == \"ไม่\"):\n",
        "                worksheet.update_cell(cell.row, 17, '4')\n",
        "                worksheet.update_cell(cell.row, 7, '0')\n",
        "              elif (msg == \"ออกจากการประเมิน\"):\n",
        "                 worksheet.update_cell(cell.row, 2, \" \")\n",
        "                 worksheet.update_cell(cell.row, 3, \" \")\n",
        "                 worksheet.update_cell(cell.row, 4, \" \")\n",
        "                 worksheet.update_cell(cell.row, 17, \" \")\n",
        "                 actual_status = '5'\n",
        "                 Carousel=response_Carousel()\n",
        "                 line_bot_api.reply_message(tk,Carousel)\n",
        "              else:\n",
        "                send_loop = \"loop\"\n",
        "                actual_status = status_check\n",
        "         elif (actual_status == '5'):\n",
        "              if(msg == \"ใช่\" or msg ==\"เคย\" or msg == \"มี\" or msg == \"สูบ\"):\n",
        "                worksheet.update_cell(cell.row, 17, '5')\n",
        "                worksheet.update_cell(cell.row, 8, '1')\n",
        "              elif(msg == \"ไม่ใช่\" or msg ==\"ไม่เคย\" or msg == \"ไม่มี\" or msg == \"ไม่สูบ\"or msg == \"ไม่\"):\n",
        "                worksheet.update_cell(cell.row, 17, '5')\n",
        "                worksheet.update_cell(cell.row, 8, '0')\n",
        "              elif (msg == \"ออกจากการประเมิน\" ):\n",
        "                 worksheet.update_cell(cell.row, 2, \" \")\n",
        "                 worksheet.update_cell(cell.row, 3, \" \")\n",
        "                 worksheet.update_cell(cell.row, 4, \" \")\n",
        "                 worksheet.update_cell(cell.row, 17, \" \")\n",
        "                 actual_status = '5'\n",
        "\n",
        "                 Carousel=response_Carousel()\n",
        "                 line_bot_api.reply_message(tk,Carousel)\n",
        "              else:\n",
        "                send_loop = \"loop\"\n",
        "                actual_status = status_check\n",
        "\n",
        "\n",
        "    #print(\"actual_status\",worksheet.cell(cell.row, 2).value)\n",
        "    #print(\"user_id\",user_id)\n",
        "    #print(\"type_msg\",type_msg)\n",
        "        # เช็คว่า actual_status ตรงกับ expected_status หรือไม่\n",
        "\n",
        "    cypher_query = (\n",
        "            [f\"MATCH (n)-[r]->(p) WHERE n.Assessdiabetes ='{type_msg}' and n.step ='{actual_status}' RETURN p.description,p.question,p.step,p.quickreply,p.finish\"])\n",
        "    with driver.session() as session:\n",
        "        for Qcypher in cypher_query:\n",
        "          result = session.run(Qcypher)\n",
        "          for record in result:\n",
        "\n",
        "            print(\"step\",str(record['p.step']))\n",
        "            print(\"actual_status_step\",actual_status)\n",
        "            #print (\"finish\",str(record['p.finish']))\n",
        "            if actual_status == '1':#step2\n",
        "                print(\"n1\",actual_status)\n",
        "                text_neo_ac = str(record['p.description'])+\"\\n\"+str(record['p.question'])\n",
        "                worksheet.update_cell(cell.row, 3, record[\"p.step\"])\n",
        "                #return str(record['p.description'])+\"\\n\"+str(record['p.question']),estimate_quick_reply(cypher_query,line_bot_api,tk)\n",
        "                return estimate_quick_reply(cypher_query,line_bot_api,tk,text_neo_ac,send_loop)\n",
        "\n",
        "            elif actual_status == '2':#step3\n",
        "                 text_neo_ac = str(record['p.question'])\n",
        "                 worksheet.update_cell(cell.row, 3, record[\"p.step\"])\n",
        "                 return estimate_quick_reply(cypher_query,line_bot_api,tk,text_neo_ac,send_loop)\n",
        "            elif actual_status == '3':#step4\n",
        "                 worksheet.update_cell(cell.row, 3, record[\"p.step\"])\n",
        "                 text_neo_ac = str(record['p.question'])\n",
        "                 return estimate_quick_reply(cypher_query,line_bot_api,tk,text_neo_ac,send_loop)\n",
        "            elif actual_status == '4':#step5\n",
        "                 text_neo_ac = str(record['p.question'])\n",
        "                 worksheet.update_cell(cell.row, 3, record[\"p.step\"])\n",
        "                 return estimate_quick_reply(cypher_query,line_bot_api,tk,text_neo_ac,send_loop)\n",
        "            elif actual_status == '5':#step6\n",
        "                 worksheet.update_cell(cell.row, 3, record[\"p.step\"])\n",
        "                 worksheet.update_cell(cell.row, 2, \" \")\n",
        "                 worksheet.update_cell(cell.row, 3, \" \")\n",
        "                 worksheet.update_cell(cell.row, 4, \" \")\n",
        "                 worksheet.update_cell(cell.row, 17, \" \")\n",
        "                 send_loop = \"\"\n",
        "                 print(\"send_loop\",send_loop)\n",
        "                 count_estimate  = int(worksheet.cell(cell.row, 5).value) + int(worksheet.cell(cell.row, 6).value) + int(worksheet.cell(cell.row, 7).value) +int(worksheet.cell(cell.row, 8).value)\n",
        "                 print(\"count_estimate\",count_estimate)\n",
        "                 return estimate_count(count_estimate,type_msg,line_bot_api,tk,user_id)\n",
        "                 #return str(record['p.description'])\n",
        "\n",
        "\n",
        "\n",
        "\n",
        "\n",
        "\n",
        "\n",
        "\n",
        "\n"
      ],
      "metadata": {
        "id": "KQT3oBN-r_ES"
      },
      "execution_count": null,
      "outputs": []
    },
    {
      "cell_type": "code",
      "source": [
        "def estimate_quick_reply(Data,line_bot_api, tk,text_neo_ac,send_loop):\n",
        "     data = []\n",
        "     quick_reply_buttons = []\n",
        "     my_cypher = Data\n",
        "     with driver.session() as session:\n",
        "            for Qcypher in my_cypher:\n",
        "              result = session.run(Qcypher)\n",
        "              for record in result:\n",
        "                  if record['p.quickreply'] not in data:\n",
        "                          data.append(record['p.quickreply'])\n",
        "                          text_neo = (record['p.quickreply'])\n",
        "                          print(\"text_neo\",text_neo)\n",
        "                          words = text_neo.split(\",\")\n",
        "                          print(\"words\",words)\n",
        "                          text_neo_loop = str(record['p.question'])\n",
        "                          quick_reply_button_1 = QuickReplyButton(\n",
        "                                action=MessageAction(label=words[0], text=words[0])\n",
        "                            )\n",
        "\n",
        "                          quick_reply_button_2 = QuickReplyButton(\n",
        "                                action=MessageAction(label=words[1], text=words[1])\n",
        "                            )\n",
        "                          quick_reply_button_3 = QuickReplyButton(\n",
        "                                action=MessageAction(label=\"ออกจากการประเมิน\", text=\"ออกจากการประเมิน\")\n",
        "                            )\n",
        "\n",
        "                          quick_reply_buttons.append(quick_reply_button_1)\n",
        "                          quick_reply_buttons.append(quick_reply_button_2)\n",
        "                          quick_reply_buttons.append(quick_reply_button_3)\n",
        "\n",
        "            if quick_reply_buttons and send_loop == \"\":\n",
        "                quick_reply = QuickReply(items=quick_reply_buttons)\n",
        "                return line_bot_api.reply_message(tk, [TextSendMessage(text=text_neo_ac,quick_reply=quick_reply)])\n",
        "            elif quick_reply_buttons and send_loop != \"\":\n",
        "                 text_loop = \"ขณะนี้อยู่ในการประเมิน  กรุณาเลือกคำตอบให้ตรงกับช้อยที่กำหนด นะครับ \\nหรือถ้าต้องการออกจากประเมิน กดปุ่มออก  ได้เลยครับ\"\n",
        "                 quick_reply = QuickReply(items=quick_reply_buttons)\n",
        "\n",
        "                 return line_bot_api.reply_message(tk, [TextSendMessage(text=text_loop),TextSendMessage(text=text_neo_loop,quick_reply=quick_reply)])"
      ],
      "metadata": {
        "id": "djaZL4X6wJyl"
      },
      "execution_count": null,
      "outputs": []
    },
    {
      "cell_type": "code",
      "source": [
        "def estimate_count(count_estimate,type_msg,line_bot_api,tk,user_id):\n",
        "     quick_reply_button = QuickReplyButton(\n",
        "        action=MessageAction(label=\"เมนู\", text=\"เมนู\")\n",
        "    )\n",
        "     quick_reply = QuickReply(\n",
        "        items=[quick_reply_button]\n",
        "    )\n",
        "     cell = worksheet.find(user_id)\n",
        "     cypher_query = (\n",
        "            [f\"MATCH (n)-[r]->(p) WHERE n.Assessdiabetes ='{type_msg}' and n.finish ='1' and p.min <='{count_estimate}' and p.max>= '{count_estimate}'RETURN p.description\"])\n",
        "     with driver.session() as session:\n",
        "        for Qcypher in cypher_query:\n",
        "          result = session.run(Qcypher)\n",
        "          for record in result:\n",
        "              if(type_msg == \"ประเมินโรคเบาหวาน\"):\n",
        "                text_neo = str(record['p.description'])\n",
        "                worksheet.update_cell(cell.row, 9, count_estimate)\n",
        "                return line_bot_api.reply_message(tk, TextSendMessage(text=text_neo,quick_reply=quick_reply))\n",
        "              elif(type_msg == \"ประเมินโรคความดันโลหิตสูง\"):\n",
        "                text_neo = str(record['p.description'])\n",
        "                worksheet.update_cell(cell.row, 10, count_estimate)\n",
        "                return line_bot_api.reply_message(tk, TextSendMessage(text=text_neo,quick_reply=quick_reply))\n",
        "              elif(type_msg == \"ประเมินโรคอ้วน\"):\n",
        "                text_neo = str(record['p.description'])\n",
        "                worksheet.update_cell(cell.row, 11, count_estimate)\n",
        "                return line_bot_api.reply_message(tk, TextSendMessage(text=text_neo,quick_reply=quick_reply))\n",
        "              elif(type_msg == \"ประเมินโรคตับแข็ง\"):\n",
        "                text_neo = str(record['p.description'])\n",
        "                worksheet.update_cell(cell.row, 12, count_estimate)\n",
        "                return line_bot_api.reply_message(tk, TextSendMessage(text=text_neo,quick_reply=quick_reply))\n",
        "              elif(type_msg == \"ประเมินโรคมะเร็ง\"):\n",
        "                text_neo = str(record['p.description'])\n",
        "                worksheet.update_cell(cell.row, 13, count_estimate)\n",
        "                return line_bot_api.reply_message(tk, TextSendMessage(text=text_neo,quick_reply=quick_reply))\n",
        "              elif(type_msg == \"ประเมินโรคหลอดเลือดสมอง\"):\n",
        "                text_neo = str(record['p.description'])\n",
        "                worksheet.update_cell(cell.row, 14, count_estimate)\n",
        "                return line_bot_api.reply_message(tk, TextSendMessage(text=text_neo,quick_reply=quick_reply))\n",
        "              elif(type_msg == \"ประเมินโรคสมองเสื่อม\"):\n",
        "                text_neo = str(record['p.description'])\n",
        "                worksheet.update_cell(cell.row, 15, count_estimate)\n",
        "                return line_bot_api.reply_message(tk, TextSendMessage(text=text_neo,quick_reply=quick_reply))\n",
        "              elif(type_msg == \"ประเมินโรคไตเรื้อรัง\"):\n",
        "                text_neo = str(record['p.description'])\n",
        "                worksheet.update_cell(cell.row, 16, count_estimate)\n",
        "                return line_bot_api.reply_message(tk, TextSendMessage(text=text_neo,quick_reply=quick_reply))\n",
        "            #return str(record['p.description'])\n",
        "\n"
      ],
      "metadata": {
        "id": "XjPImwRL3-SJ"
      },
      "execution_count": null,
      "outputs": []
    },
    {
      "cell_type": "code",
      "source": [
        "reply_msg(\"ประเมินโรคเบาหวาน\",\"Ucc3e077cff6d7f39dc73f1ead7cc39e0\",\"11\",\"11\")"
      ],
      "metadata": {
        "id": "SeWXHwGYztTr"
      },
      "execution_count": null,
      "outputs": []
    },
    {
      "cell_type": "code",
      "source": [
        "#def estimate_quick_reply(Data):\n",
        "  #str_m = []\n",
        "  #count_n = 0\n",
        "  #data =[]\n",
        "  #print(\"DATA\",Data)\n",
        "  #with driver.session() as session:\n",
        "       # result = session.run(Data[0])\n",
        "        #print(\"result\",result)\n",
        "        #for record in result:\n",
        "         # if len(str(record['p.quickreply']))>0:\n",
        "          #  if record['p.quickreply'] not in data:\n",
        "           #   data.append(record['p.quickreply'])\n",
        "           #   text = str(record['p.quickreply'])\n",
        "           #   print(\"text:\",text)\n",
        "            #  words = text.split(\",\")\n",
        "           #   for split_words in words:\n",
        "            #      print(words)\n",
        "              #    str_m.append({ \"type\": \"action\",\"imageUrl\": \"\",\"action\": { \"type\": \"message\", \"label\": split_words[:18]+\"..\" , \"text\": split_words }})\n",
        "\n",
        "       # return  {\"items\": str_m}"
      ],
      "metadata": {
        "id": "hjgoQdJeG07Z"
      },
      "execution_count": null,
      "outputs": []
    },
    {
      "cell_type": "code",
      "source": [
        "def reply_msg(line_bot_api,tk,user_id,msg):\n",
        "    #result = check_user_id(msg,user_id,line_bot_api,tk)\n",
        "    check_user_id(line_bot_api,tk,user_id,msg)\n",
        "    #text_msg = result[0]\n",
        "    #quick_reply_dic = result[1]\n",
        "    #text_result2 = result[2]\n",
        "    #if (result[2]==2):\n",
        "       # text_msg = text_msg\n",
        "       # return text_msg,quick_reply_dic\n",
        "    #else:\n",
        "      #  return result,\"\""
      ],
      "metadata": {
        "id": "GspYH_agmhne"
      },
      "execution_count": null,
      "outputs": []
    },
    {
      "cell_type": "code",
      "source": [
        "def quick_reply_relationship(line_bot_api, tk, result):\n",
        "   my_cypher = result\n",
        "   data = []\n",
        "   text_name =[]\n",
        "   quick_reply_buttons = []\n",
        "   with driver.session() as session:\n",
        "            for Qcypher in my_cypher:\n",
        "              result = session.run(Qcypher)\n",
        "              for record in result:\n",
        "                    msq_relation =str(record['r.name'])#มีลักษณะอาการ\n",
        "                    if(str(record['p.description'])) !=\"None\":\n",
        "                      #text_message = str(record['type(r)'])+\" \"+msq_relation+\" \"+str(record['p.name'])+\"\"+str(record['p.description'])\n",
        "                      text_message = str(record['type(r)'])+str(record['r.name'])\n",
        "                      text_name.append(record['p.name'])\n",
        "                      print(\"text_name\",text_name)\n",
        "                      #data = str(record['p.name'])\n",
        "                      if record['p.name'] not in data:\n",
        "                          data.append(record['p.name'])\n",
        "                          text_neo = str(record['p.name'])\n",
        "                          quick_reply_button = QuickReplyButton(\n",
        "                          action=MessageAction(label=text_neo[:18], text=text_neo)\n",
        "                          )\n",
        "                          quick_reply_buttons.append(quick_reply_button)\n",
        "                    elif (str(record['p.description'])) ==\"None\":\n",
        "                          text_message = str(record['type(r)'])+str(record['r.name'])\n",
        "                          text_name.append(record['p.name'])\n",
        "              if quick_reply_buttons:\n",
        "                  text_name_str = \"-\"+'\\n-'.join(text_name)\n",
        "                  quick_reply = QuickReply(items=quick_reply_buttons)\n",
        "                  return line_bot_api.reply_message(tk, [TextSendMessage(text=text_message),TextSendMessage(text=text_name_str,quick_reply=quick_reply)])\n",
        "              else:\n",
        "                  text_name_str = \"-\"+'\\n-'.join(text_name)\n",
        "                  quick_reply = QuickReply(items=quick_reply_buttons)\n",
        "                  return line_bot_api.reply_message(tk, [TextSendMessage(text=text_message),TextSendMessage(text=text_name_str)])\n",
        "\n"
      ],
      "metadata": {
        "id": "mCIYQuimU1Fo"
      },
      "execution_count": null,
      "outputs": []
    },
    {
      "cell_type": "code",
      "source": [
        "reply_msg(\"อาการโรคเบาหวาน\",\"Ucc3e077cff6d7f39dc73f1ead7cc39e0\",\"11\",\"11\")"
      ],
      "metadata": {
        "id": "2B0rBt0YBqRR"
      },
      "execution_count": null,
      "outputs": []
    },
    {
      "cell_type": "code",
      "source": [
        "def response_Carousel():\n",
        "\n",
        "    notes = [\n",
        "        CarouselColumn(\n",
        "            thumbnail_image_url=\n",
        "            \"https://www.filesthaischool0.com/files/uppic/34111955/news/34111955_0_20230815-104743.png\",\n",
        "            title=\"สอบถามเพิ่มเติม\",\n",
        "            text=\"สามารถสอบคำถามทั่วไปเกี่ยวกับกลุ่มโรค NCDs\",\n",
        "            actions=[{\n",
        "                \"type\": \"message\",\n",
        "                \"label\": \"สอบถาม\",\n",
        "                \"text\": \"สอบถาม\"\n",
        "            },\n",
        "            ]),\n",
        "          CarouselColumn(\n",
        "            thumbnail_image_url=\n",
        "            \"https://media.istockphoto.com/id/1265028866/vector/medical-checkup-icon-vector-for-web-design-book-magazine-poster-ads-application.jpg?s=612x612&w=0&k=20&c=e5zCSQ8tRbPA9rS2hWTbmNWGAUZGps5CZRoomTMqZfA=\",\n",
        "            title=\"ประเมิน\",\n",
        "            text=\"จะมีแบบสอบถามเกี่ยวกับโรคเพื่อประเมินความเสี่ยง\",\n",
        "            actions=[{\n",
        "                \"type\": \"message\",\n",
        "                \"label\": \"ประเมิน\",\n",
        "                \"text\": \"ประเมิน\"\n",
        "            },\n",
        "            ]),\n",
        "         CarouselColumn(\n",
        "            thumbnail_image_url=\n",
        "            \"https://lh3.googleusercontent.com/d/1XsaWRTA-d413gHxPWfRRx9gloL6ADbvu\",\n",
        "            title=\"สมุนไพร\",\n",
        "            text=\"จะมีสมุนไพรที่เกี่ยวกับโรคสามารถเลือกดูได้เลย\",\n",
        "            actions=[{\n",
        "                \"type\": \"message\",\n",
        "                \"label\": \"สมุนไพร\",\n",
        "                \"text\": \"สมุนไพร\"\n",
        "            },\n",
        "            ]),\n",
        "\n",
        "\n",
        "    ]\n",
        "\n",
        "    Carousel = TemplateSendMessage(\n",
        "        alt_text='เมนู',\n",
        "        template=CarouselTemplate(columns=notes),\n",
        "    )\n",
        "    return Carousel"
      ],
      "metadata": {
        "id": "WhEzhKnFyV7Q"
      },
      "execution_count": null,
      "outputs": []
    },
    {
      "cell_type": "code",
      "source": [
        "def response_flex():\n",
        "  bubble_string = \"\"\"\n",
        "{\n",
        "  \"type\": \"bubble\",\n",
        "  \"body\": {\n",
        "    \"type\": \"box\",\n",
        "    \"layout\": \"vertical\",\n",
        "    \"spacing\": \"md\",\n",
        "    \"contents\": [\n",
        "      {\n",
        "        \"wrap\": true,\n",
        "        \"text\": \"สามารถเลือกโรคที่ต้องการประเมินได้เลยครับ 👇\",\n",
        "        \"type\": \"text\"\n",
        "      },\n",
        "      {\n",
        "        \"type\": \"button\",\n",
        "        \"style\": \"primary\",\n",
        "        \"height\": \"sm\",\n",
        "        \"margin\": \"sm\",\n",
        "        \"color\": \"#808080\",\n",
        "        \"action\": {\n",
        "          \"type\": \"message\",\n",
        "          \"label\": \"ประเมินโรคเบาหวาน\",\n",
        "          \"text\": \"ประเมินโรคเบาหวาน\"\n",
        "        }\n",
        "      },\n",
        "      {\n",
        "        \"type\": \"button\",\n",
        "        \"style\": \"primary\",\n",
        "        \"height\": \"sm\",\n",
        "        \"margin\": \"sm\",\n",
        "        \"color\": \"#808080\",\n",
        "        \"action\": {\n",
        "          \"type\": \"message\",\n",
        "          \"label\": \"ประเมินโรคความดันโลหิตสูง\",\n",
        "          \"text\": \"ประเมินโรคความดันโลหิตสูง\"\n",
        "        }\n",
        "      },\n",
        "      {\n",
        "        \"type\": \"button\",\n",
        "        \"style\": \"primary\",\n",
        "        \"height\": \"sm\",\n",
        "        \"margin\": \"sm\",\n",
        "        \"color\": \"#808080\",\n",
        "        \"action\": {\n",
        "          \"type\": \"message\",\n",
        "          \"label\": \"ประเมินโรคอ้วน\",\n",
        "          \"text\": \"ประเมินโรคอ้วน\"\n",
        "        }\n",
        "      },\n",
        "      {\n",
        "        \"type\": \"button\",\n",
        "        \"style\": \"primary\",\n",
        "        \"height\": \"sm\",\n",
        "        \"margin\": \"sm\",\n",
        "        \"color\": \"#808080\",\n",
        "        \"action\": {\n",
        "          \"type\": \"message\",\n",
        "          \"label\": \"ประเมินโรคตับแข็ง\",\n",
        "          \"text\": \"ประเมินโรคตับแข็ง\"\n",
        "        }\n",
        "      },\n",
        "      {\n",
        "        \"type\": \"button\",\n",
        "        \"style\": \"primary\",\n",
        "        \"height\": \"sm\",\n",
        "        \"margin\": \"sm\",\n",
        "        \"color\": \"#808080\",\n",
        "        \"action\": {\n",
        "          \"type\": \"message\",\n",
        "          \"label\": \"ประเมินโรคมะเร็ง\",\n",
        "          \"text\": \"ประเมินโรคมะเร็ง\"\n",
        "        }\n",
        "        },\n",
        "        {\n",
        "        \"type\": \"button\",\n",
        "        \"style\": \"primary\",\n",
        "        \"height\": \"sm\",\n",
        "        \"margin\": \"sm\",\n",
        "        \"color\": \"#808080\",\n",
        "        \"action\": {\n",
        "          \"type\": \"message\",\n",
        "          \"label\": \"ประเมินโรคหลอดเลือดสมอง\",\n",
        "          \"text\": \"ประเมินโรคหลอดเลือดสมอง\"\n",
        "        }\n",
        "        },\n",
        "       {\n",
        "        \"type\": \"button\",\n",
        "        \"style\": \"primary\",\n",
        "        \"height\": \"sm\",\n",
        "        \"margin\": \"sm\",\n",
        "        \"color\": \"#808080\",\n",
        "        \"action\": {\n",
        "          \"type\": \"message\",\n",
        "          \"label\": \"ประเมินโรคสมองเสื่อม\",\n",
        "          \"text\": \"ประเมินโรคสมองเสื่อม\"\n",
        "        }\n",
        "        },\n",
        "        {\n",
        "        \"type\": \"button\",\n",
        "        \"style\": \"primary\",\n",
        "        \"height\": \"sm\",\n",
        "        \"margin\": \"sm\",\n",
        "        \"color\": \"#808080\",\n",
        "        \"action\": {\n",
        "          \"type\": \"message\",\n",
        "          \"label\": \"ประเมินโรคไตเรื้อรัง\",\n",
        "          \"text\": \"ประเมินโรคไตเรื้อรัง\"\n",
        "        }\n",
        "      }\n",
        "    ]\n",
        "  }\n",
        "}\n",
        "\"\"\"\n",
        "\n",
        "  flex = FlexSendMessage(alt_text=\"ประเมิน\",contents=json.loads(bubble_string))\n",
        "  return flex\n",
        "\n",
        "\n"
      ],
      "metadata": {
        "id": "AU-DqCmXvewT"
      },
      "execution_count": null,
      "outputs": []
    },
    {
      "cell_type": "code",
      "source": [
        "def symptom_flex():\n",
        "  bubble_string = \"\"\"\n",
        "{\n",
        "  \"type\": \"bubble\",\n",
        "  \"body\": {\n",
        "    \"type\": \"box\",\n",
        "    \"layout\": \"vertical\",\n",
        "    \"spacing\": \"md\",\n",
        "    \"contents\": [\n",
        "      {\n",
        "        \"wrap\": true,\n",
        "        \"text\": \"สามารถเลือกอาการของโรคที่ต้องการได้เลย 👇\",\n",
        "        \"type\": \"text\"\n",
        "      },\n",
        "      {\n",
        "        \"type\": \"button\",\n",
        "        \"style\": \"primary\",\n",
        "        \"height\": \"sm\",\n",
        "        \"margin\": \"sm\",\n",
        "        \"color\": \"#808080\",\n",
        "        \"action\": {\n",
        "          \"type\": \"message\",\n",
        "          \"label\": \"อาการโรคเบาหวาน\",\n",
        "          \"text\": \"อาการโรคเบาหวาน\"\n",
        "        }\n",
        "      },\n",
        "      {\n",
        "        \"type\": \"button\",\n",
        "        \"style\": \"primary\",\n",
        "        \"height\": \"sm\",\n",
        "        \"margin\": \"sm\",\n",
        "        \"color\": \"#808080\",\n",
        "        \"action\": {\n",
        "          \"type\": \"message\",\n",
        "          \"label\": \"อาการโรคความดันโลหิตสูง\",\n",
        "          \"text\": \"อาการความดันโลหิตสูง\"\n",
        "        }\n",
        "      },\n",
        "      {\n",
        "        \"type\": \"button\",\n",
        "        \"style\": \"primary\",\n",
        "        \"height\": \"sm\",\n",
        "        \"margin\": \"sm\",\n",
        "        \"color\": \"#808080\",\n",
        "        \"action\": {\n",
        "          \"type\": \"message\",\n",
        "          \"label\": \"อาการโรคอ้วน\",\n",
        "          \"text\": \"อาการโรคอ้วน\"\n",
        "        }\n",
        "      },\n",
        "      {\n",
        "        \"type\": \"button\",\n",
        "        \"style\": \"primary\",\n",
        "        \"height\": \"sm\",\n",
        "        \"margin\": \"sm\",\n",
        "        \"color\": \"#808080\",\n",
        "        \"action\": {\n",
        "          \"type\": \"message\",\n",
        "          \"label\": \"อาการโรคตับแข็ง\",\n",
        "          \"text\": \"อาการโรคตับแข็ง\"\n",
        "        }\n",
        "      },\n",
        "      {\n",
        "        \"type\": \"button\",\n",
        "        \"style\": \"primary\",\n",
        "        \"height\": \"sm\",\n",
        "        \"margin\": \"sm\",\n",
        "        \"color\": \"#808080\",\n",
        "        \"action\": {\n",
        "          \"type\": \"message\",\n",
        "          \"label\": \"อาการโรคมะเร็ง\",\n",
        "          \"text\": \"อาการโรคมะเร็ง\"\n",
        "        }\n",
        "        },\n",
        "        {\n",
        "        \"type\": \"button\",\n",
        "        \"style\": \"primary\",\n",
        "        \"height\": \"sm\",\n",
        "        \"margin\": \"sm\",\n",
        "        \"color\": \"#808080\",\n",
        "        \"action\": {\n",
        "          \"type\": \"message\",\n",
        "          \"label\": \"อาการโรคหลอดเลือดสมอง\",\n",
        "          \"text\": \"อาการโรคหลอดเลือดสมอง\"\n",
        "        }\n",
        "        },\n",
        "       {\n",
        "        \"type\": \"button\",\n",
        "        \"style\": \"primary\",\n",
        "        \"height\": \"sm\",\n",
        "        \"margin\": \"sm\",\n",
        "        \"color\": \"#808080\",\n",
        "        \"action\": {\n",
        "          \"type\": \"message\",\n",
        "          \"label\": \"อาการโรคสมองเสื่อม\",\n",
        "          \"text\": \"อาการโรคสมองเสื่อม\"\n",
        "        }\n",
        "        },\n",
        "        {\n",
        "        \"type\": \"button\",\n",
        "        \"style\": \"primary\",\n",
        "        \"height\": \"sm\",\n",
        "        \"margin\": \"sm\",\n",
        "        \"color\": \"#808080\",\n",
        "        \"action\": {\n",
        "          \"type\": \"message\",\n",
        "          \"label\": \"อาการโรคไตเรื้อรัง\",\n",
        "          \"text\": \"อาการโรคไตเรื้อรัง\"\n",
        "        }\n",
        "      }\n",
        "    ]\n",
        "  }\n",
        "}\n",
        "\"\"\"\n",
        "\n",
        "  flex = FlexSendMessage(alt_text=\"อาการ\",contents=json.loads(bubble_string))\n",
        "  return flex\n",
        "\n",
        "\n"
      ],
      "metadata": {
        "id": "AwBZFpVAWEq2"
      },
      "execution_count": null,
      "outputs": []
    },
    {
      "cell_type": "code",
      "source": [
        "def cause_flex():\n",
        "  bubble_string = \"\"\"\n",
        "{\n",
        "  \"type\": \"bubble\",\n",
        "  \"body\": {\n",
        "    \"type\": \"box\",\n",
        "    \"layout\": \"vertical\",\n",
        "    \"spacing\": \"md\",\n",
        "    \"contents\": [\n",
        "      {\n",
        "        \"wrap\": true,\n",
        "        \"text\": \"สามารถเลือกสาเหตุของโรคที่ต้องการได้เลย 👇\",\n",
        "        \"type\": \"text\"\n",
        "      },\n",
        "      {\n",
        "        \"type\": \"button\",\n",
        "        \"style\": \"primary\",\n",
        "        \"height\": \"sm\",\n",
        "        \"margin\": \"sm\",\n",
        "        \"color\": \"#808080\",\n",
        "        \"action\": {\n",
        "          \"type\": \"message\",\n",
        "          \"label\": \"สาเหตุของโรคเบาหวาน\",\n",
        "          \"text\": \"สาเหตุของโรคเบาหวาน\"\n",
        "        }\n",
        "      },\n",
        "      {\n",
        "        \"type\": \"button\",\n",
        "        \"style\": \"primary\",\n",
        "        \"height\": \"sm\",\n",
        "        \"margin\": \"sm\",\n",
        "        \"color\": \"#808080\",\n",
        "        \"action\": {\n",
        "          \"type\": \"message\",\n",
        "          \"label\": \"สาเหตุของโรคความดันโลหิตสูง\",\n",
        "          \"text\": \"สาเหตุของโรคความดันโลหิตสูง\"\n",
        "        }\n",
        "      },\n",
        "      {\n",
        "        \"type\": \"button\",\n",
        "        \"style\": \"primary\",\n",
        "        \"height\": \"sm\",\n",
        "        \"margin\": \"sm\",\n",
        "        \"color\": \"#808080\",\n",
        "        \"action\": {\n",
        "          \"type\": \"message\",\n",
        "          \"label\": \"สาเหตุของโรคอ้วน\",\n",
        "          \"text\": \"สาเหตุของโรคอ้วน\"\n",
        "        }\n",
        "      },\n",
        "      {\n",
        "        \"type\": \"button\",\n",
        "        \"style\": \"primary\",\n",
        "        \"height\": \"sm\",\n",
        "        \"margin\": \"sm\",\n",
        "        \"color\": \"#808080\",\n",
        "        \"action\": {\n",
        "          \"type\": \"message\",\n",
        "          \"label\": \"สาเหตุของโรคตับแข็ง\",\n",
        "          \"text\": \"สาเหตุของโรคตับแข็ง\"\n",
        "        }\n",
        "      },\n",
        "      {\n",
        "        \"type\": \"button\",\n",
        "        \"style\": \"primary\",\n",
        "        \"height\": \"sm\",\n",
        "        \"margin\": \"sm\",\n",
        "        \"color\": \"#808080\",\n",
        "        \"action\": {\n",
        "          \"type\": \"message\",\n",
        "          \"label\": \"สาเหตุของโรคมะเร็ง\",\n",
        "          \"text\": \"สาเหตุของโรคมะเร็ง\"\n",
        "        }\n",
        "        },\n",
        "        {\n",
        "        \"type\": \"button\",\n",
        "        \"style\": \"primary\",\n",
        "        \"height\": \"sm\",\n",
        "        \"margin\": \"sm\",\n",
        "        \"color\": \"#808080\",\n",
        "        \"action\": {\n",
        "          \"type\": \"message\",\n",
        "          \"label\": \"สาเหตุของโรคหลอดเลือดสมอง\",\n",
        "          \"text\": \"สาเหตุของโรคหลอดเลือดสมอง\"\n",
        "        }\n",
        "        },\n",
        "       {\n",
        "        \"type\": \"button\",\n",
        "        \"style\": \"primary\",\n",
        "        \"height\": \"sm\",\n",
        "        \"margin\": \"sm\",\n",
        "        \"color\": \"#808080\",\n",
        "        \"action\": {\n",
        "          \"type\": \"message\",\n",
        "          \"label\": \"สาเหตุของโรคสมองเสื่อม\",\n",
        "          \"text\": \"สาเหตุของโรคสมองเสื่อม\"\n",
        "        }\n",
        "        },\n",
        "        {\n",
        "        \"type\": \"button\",\n",
        "        \"style\": \"primary\",\n",
        "        \"height\": \"sm\",\n",
        "        \"margin\": \"sm\",\n",
        "        \"color\": \"#808080\",\n",
        "        \"action\": {\n",
        "          \"type\": \"message\",\n",
        "          \"label\": \"สาเหตุของโรคไตเรื้อรัง\",\n",
        "          \"text\": \"สาเหตุของโรคไตเรื้อรัง\"\n",
        "        }\n",
        "      }\n",
        "    ]\n",
        "  }\n",
        "}\n",
        "\"\"\"\n",
        "\n",
        "  flex = FlexSendMessage(alt_text=\"สาเหตุ\",contents=json.loads(bubble_string))\n",
        "  return flex"
      ],
      "metadata": {
        "id": "8zDXrDiOYEli"
      },
      "execution_count": null,
      "outputs": []
    },
    {
      "cell_type": "code",
      "source": [
        "def protect_flex():\n",
        "  bubble_string = \"\"\"\n",
        "{\n",
        "  \"type\": \"bubble\",\n",
        "  \"body\": {\n",
        "    \"type\": \"box\",\n",
        "    \"layout\": \"vertical\",\n",
        "    \"spacing\": \"md\",\n",
        "    \"contents\": [\n",
        "      {\n",
        "        \"wrap\": true,\n",
        "        \"text\": \"สามารถเลือกวิธีป้องกันของโรคที่ต้องการได้เลย 👇\",\n",
        "        \"type\": \"text\"\n",
        "      },\n",
        "      {\n",
        "        \"type\": \"button\",\n",
        "        \"style\": \"primary\",\n",
        "        \"height\": \"sm\",\n",
        "        \"margin\": \"sm\",\n",
        "        \"color\": \"#808080\",\n",
        "        \"action\": {\n",
        "          \"type\": \"message\",\n",
        "          \"label\": \"วิธีป้องกันของโรคเบาหวาน\",\n",
        "          \"text\": \"วิธีป้องกันของโรคเบาหวาน\"\n",
        "        }\n",
        "      },\n",
        "      {\n",
        "        \"type\": \"button\",\n",
        "        \"style\": \"primary\",\n",
        "        \"height\": \"sm\",\n",
        "        \"margin\": \"sm\",\n",
        "        \"color\": \"#808080\",\n",
        "        \"action\": {\n",
        "          \"type\": \"message\",\n",
        "          \"label\": \"วิธีป้องกันของโรคความดันโลหิตสูง\",\n",
        "          \"text\": \"วิธีป้องกันของโรคความดันโลหิตสูง\"\n",
        "        }\n",
        "      },\n",
        "      {\n",
        "        \"type\": \"button\",\n",
        "        \"style\": \"primary\",\n",
        "        \"height\": \"sm\",\n",
        "        \"margin\": \"sm\",\n",
        "        \"color\": \"#808080\",\n",
        "        \"action\": {\n",
        "          \"type\": \"message\",\n",
        "          \"label\": \"วิธีป้องกันของโรคอ้วน\",\n",
        "          \"text\": \"วิธีป้องกันของโรคอ้วน\"\n",
        "        }\n",
        "      },\n",
        "      {\n",
        "        \"type\": \"button\",\n",
        "        \"style\": \"primary\",\n",
        "        \"height\": \"sm\",\n",
        "        \"margin\": \"sm\",\n",
        "        \"color\": \"#808080\",\n",
        "        \"action\": {\n",
        "          \"type\": \"message\",\n",
        "          \"label\": \"วิธีป้องกันของโรคตับแข็ง\",\n",
        "          \"text\": \"วิธีป้องกันของโรคตับแข็ง\"\n",
        "        }\n",
        "      },\n",
        "      {\n",
        "        \"type\": \"button\",\n",
        "        \"style\": \"primary\",\n",
        "        \"height\": \"sm\",\n",
        "        \"margin\": \"sm\",\n",
        "        \"color\": \"#808080\",\n",
        "        \"action\": {\n",
        "          \"type\": \"message\",\n",
        "          \"label\": \"วิธีป้องกันของโรคมะเร็ง\",\n",
        "          \"text\": \"วิธีป้องกันของโรคมะเร็ง\"\n",
        "        }\n",
        "        },\n",
        "        {\n",
        "        \"type\": \"button\",\n",
        "        \"style\": \"primary\",\n",
        "        \"height\": \"sm\",\n",
        "        \"margin\": \"sm\",\n",
        "        \"color\": \"#808080\",\n",
        "        \"action\": {\n",
        "          \"type\": \"message\",\n",
        "          \"label\": \"วิธีป้องกันของโรคหลอดเลือดสมอง\",\n",
        "          \"text\": \"วิธีป้องกันของโรคหลอดเลือดสมอง\"\n",
        "        }\n",
        "        },\n",
        "       {\n",
        "        \"type\": \"button\",\n",
        "        \"style\": \"primary\",\n",
        "        \"height\": \"sm\",\n",
        "        \"margin\": \"sm\",\n",
        "        \"color\": \"#808080\",\n",
        "        \"action\": {\n",
        "          \"type\": \"message\",\n",
        "          \"label\": \"วิธีป้องกันของโรคสมองเสื่อม\",\n",
        "          \"text\": \"วิธีป้องกันของโรคสมองเสื่อม\"\n",
        "        }\n",
        "        },\n",
        "        {\n",
        "        \"type\": \"button\",\n",
        "        \"style\": \"primary\",\n",
        "        \"height\": \"sm\",\n",
        "        \"margin\": \"sm\",\n",
        "        \"color\": \"#808080\",\n",
        "        \"action\": {\n",
        "          \"type\": \"message\",\n",
        "          \"label\": \"วิธีป้องกันของโรคไตเรื้อรัง\",\n",
        "          \"text\": \"วิธีป้องกันของโรคไตเรื้อรัง\"\n",
        "        }\n",
        "      }\n",
        "    ]\n",
        "  }\n",
        "}\n",
        "\"\"\"\n",
        "\n",
        "  flex = FlexSendMessage(alt_text=\"ป้องกัน\",contents=json.loads(bubble_string))\n",
        "  return flex"
      ],
      "metadata": {
        "id": "jzOajrZ0ZghV"
      },
      "execution_count": null,
      "outputs": []
    },
    {
      "cell_type": "code",
      "source": [
        "def q_and_a():\n",
        "  bubble_string = \"\"\"\n",
        "        {\n",
        "  \"type\": \"bubble\",\n",
        "  \"body\": {\n",
        "    \"type\": \"box\",\n",
        "    \"layout\": \"vertical\",\n",
        "    \"spacing\": \"md\",\n",
        "    \"contents\": [\n",
        "      {\n",
        "            \"wrap\": true,\n",
        "            \"text\": \"สามารถสอบถามทั่วไปตามไกด์ข้างล่างได้เลยครับ 👇\",\n",
        "            \"type\": \"text\"\n",
        "      },\n",
        "      {\n",
        "        \"type\": \"button\",\n",
        "        \"style\": \"primary\",\n",
        "        \"height\": \"sm\",\n",
        "        \"margin\": \"sm\",\n",
        "        \"color\": \"#808080\",\n",
        "        \"action\": {\n",
        "          \"type\": \"message\",\n",
        "          \"label\": \"โรคเบาหวานคืออะไร\",\n",
        "          \"text\": \"โรคเบาหวานคืออะไร\"\n",
        "        }\n",
        "      },\n",
        "      {\n",
        "        \"type\": \"button\",\n",
        "        \"style\": \"primary\",\n",
        "        \"height\": \"sm\",\n",
        "        \"margin\": \"sm\",\n",
        "        \"color\": \"#808080\",\n",
        "        \"action\": {\n",
        "          \"type\": \"message\",\n",
        "          \"label\": \"อาการของโรคเบาหวานเกิดจากอะไร\",\n",
        "          \"text\": \"อาการของโรคเบาหวานเกิดจากอะไร\"\n",
        "        }\n",
        "      },\n",
        "      {\n",
        "        \"type\": \"button\",\n",
        "        \"style\": \"primary\",\n",
        "        \"height\": \"sm\",\n",
        "        \"margin\": \"sm\",\n",
        "        \"color\": \"#808080\",\n",
        "        \"action\": {\n",
        "          \"type\": \"message\",\n",
        "          \"label\": \"NCDsคืออะไร\",\n",
        "          \"text\": \"NCDsคืออะไร\"\n",
        "        }\n",
        "      },\n",
        "      {\n",
        "        \"type\": \"button\",\n",
        "        \"style\": \"primary\",\n",
        "        \"height\": \"sm\",\n",
        "        \"margin\": \"sm\",\n",
        "        \"color\": \"#808080\",\n",
        "        \"action\": {\n",
        "          \"type\": \"message\",\n",
        "          \"label\": \"NCDsมีโรคอะไรบ้าง\",\n",
        "          \"text\": \"NCDsมีโรคอะไรบ้าง\"\n",
        "        }\n",
        "      },\n",
        "      {\n",
        "        \"type\": \"button\",\n",
        "        \"style\": \"primary\",\n",
        "        \"height\": \"sm\",\n",
        "        \"margin\": \"sm\",\n",
        "        \"color\": \"#808080\",\n",
        "        \"action\": {\n",
        "          \"type\": \"message\",\n",
        "          \"label\": \"เมนู\",\n",
        "          \"text\": \"เมนู\"\n",
        "        }\n",
        "      }\n",
        "    ]\n",
        "  }\n",
        "}\n",
        "        \"\"\"\n",
        "  flex = FlexSendMessage(alt_text=\"สอบถาม\",contents=json.loads(bubble_string))\n",
        "  return flex"
      ],
      "metadata": {
        "id": "HFYP6RBJFs0D"
      },
      "execution_count": null,
      "outputs": []
    },
    {
      "cell_type": "code",
      "source": [
        "def herb_list():\n",
        "    bubble_string = \"\"\"\n",
        "         {\n",
        "  \"type\": \"bubble\",\n",
        "  \"body\": {\n",
        "    \"type\": \"box\",\n",
        "    \"layout\": \"vertical\",\n",
        "    \"spacing\": \"md\",\n",
        "    \"contents\": [\n",
        "      {\n",
        "        \"wrap\": true,\n",
        "        \"text\": \"สามารถเลือกสมุนไพรตามโรคได้เลยครับ 👇\",\n",
        "        \"type\": \"text\"\n",
        "      },\n",
        "      {\n",
        "        \"type\": \"button\",\n",
        "        \"style\": \"primary\",\n",
        "        \"height\": \"sm\",\n",
        "        \"margin\": \"sm\",\n",
        "        \"color\": \"#82E0AA\",\n",
        "        \"action\": {\n",
        "          \"type\": \"message\",\n",
        "          \"label\": \"สมุนไพรโรคเบาหวาน\",\n",
        "          \"text\": \"สมุนไพรโรคเบาหวาน\"\n",
        "        }\n",
        "      },\n",
        "      {\n",
        "        \"type\": \"button\",\n",
        "        \"style\": \"primary\",\n",
        "        \"height\": \"sm\",\n",
        "        \"margin\": \"sm\",\n",
        "        \"color\": \"#82E0AA\",\n",
        "        \"action\": {\n",
        "          \"type\": \"message\",\n",
        "          \"label\": \"สมุนไพรโรคความดันโลหิตสูง\",\n",
        "          \"text\": \"สมุนไพรโรคความดันโลหิตสูง\"\n",
        "        }\n",
        "      },\n",
        "      {\n",
        "        \"type\": \"button\",\n",
        "        \"style\": \"primary\",\n",
        "        \"height\": \"sm\",\n",
        "        \"margin\": \"sm\",\n",
        "        \"color\": \"#82E0AA\",\n",
        "        \"action\": {\n",
        "          \"type\": \"message\",\n",
        "          \"label\": \"สมุนไพรโรคอ้วน\",\n",
        "          \"text\": \"สมุนไพรโรคอ้วน\"\n",
        "        }\n",
        "      },\n",
        "      {\n",
        "        \"type\": \"button\",\n",
        "        \"style\": \"primary\",\n",
        "        \"height\": \"sm\",\n",
        "        \"margin\": \"sm\",\n",
        "        \"color\": \"#82E0AA\",\n",
        "        \"action\": {\n",
        "          \"type\": \"message\",\n",
        "          \"label\": \"สมุนไพรโรคตับแข็ง\",\n",
        "          \"text\": \"สมุนไพรโรคตับแข็ง\"\n",
        "        }\n",
        "      },\n",
        "      {\n",
        "        \"type\": \"button\",\n",
        "        \"style\": \"primary\",\n",
        "        \"height\": \"sm\",\n",
        "        \"margin\": \"sm\",\n",
        "        \"color\": \"#82E0AA\",\n",
        "        \"action\": {\n",
        "          \"type\": \"message\",\n",
        "          \"label\": \"สมุนไพรโรคมะเร็ง\",\n",
        "          \"text\": \"สมุนไพรโรคมะเร็ง\"\n",
        "        }\n",
        "        },\n",
        "        {\n",
        "        \"type\": \"button\",\n",
        "        \"style\": \"primary\",\n",
        "        \"height\": \"sm\",\n",
        "        \"margin\": \"sm\",\n",
        "        \"color\": \"#82E0AA\",\n",
        "        \"action\": {\n",
        "          \"type\": \"message\",\n",
        "          \"label\": \"สมุนไพรโรคหลอดเลือดสมอง\",\n",
        "          \"text\": \"สมุนไพรโรคหลอดเลือดสมอง\"\n",
        "        }\n",
        "        },\n",
        "       {\n",
        "        \"type\": \"button\",\n",
        "        \"style\": \"primary\",\n",
        "        \"height\": \"sm\",\n",
        "        \"margin\": \"sm\",\n",
        "        \"color\": \"#82E0AA\",\n",
        "        \"action\": {\n",
        "          \"type\": \"message\",\n",
        "          \"label\": \"สมุนไพรโรคสมองเสื่อม\",\n",
        "          \"text\": \"สมุนไพรโรคสมองเสื่อม\"\n",
        "        }\n",
        "        },\n",
        "        {\n",
        "        \"type\": \"button\",\n",
        "        \"style\": \"primary\",\n",
        "        \"height\": \"sm\",\n",
        "        \"margin\": \"sm\",\n",
        "        \"color\": \"#82E0AA\",\n",
        "        \"action\": {\n",
        "          \"type\": \"message\",\n",
        "          \"label\": \"สมุนไพรโรคไตเรื้อรัง\",\n",
        "          \"text\": \"สมุนไพรโรคไตเรื้อรัง\"\n",
        "        }\n",
        "      }\n",
        "    ]\n",
        "  }\n",
        "}\n",
        "    \"\"\"\n",
        "    herb = FlexSendMessage(alt_text=\"สมุนไพร\",contents=json.loads(bubble_string))\n",
        "    return herb"
      ],
      "metadata": {
        "id": "3Mmwsdp56DNf"
      },
      "execution_count": null,
      "outputs": []
    },
    {
      "cell_type": "code",
      "source": [
        "def return_message(line_bot_api,tk,user_id,msg):\n",
        "\n",
        "\n",
        "    if (msg == \"เมนู\" or msg == \"menu\" or msg == \"Menu\"):\n",
        "        Carousel=response_Carousel()\n",
        "        line_bot_api.reply_message(tk,Carousel)\n",
        "    elif (msg == \"ประเมิน\"):\n",
        "\n",
        "        flex = response_flex()\n",
        "        line_bot_api.reply_message(tk,flex)\n",
        "    elif (msg == \"สอบถาม\"):\n",
        "\n",
        "          ask_question  = q_and_a()\n",
        "          line_bot_api.reply_message(tk,ask_question)\n",
        "    elif (msg == \"สมุนไพร\"):\n",
        "\n",
        "         herb_list_ = herb_list()\n",
        "         line_bot_api.reply_message(tk,herb_list_)\n",
        "\n",
        "    elif (msg == \"อาการ\"):\n",
        "\n",
        "         symptom_list_ = symptom_flex()\n",
        "         line_bot_api.reply_message(tk,symptom_list_)\n",
        "    elif (msg == \"สาเหตุ\"):\n",
        "\n",
        "         cause_list_ = cause_flex()\n",
        "         line_bot_api.reply_message(tk,cause_list_)\n",
        "    elif (msg == \"วิธีป้องกัน\"):\n",
        "\n",
        "         protect_list_ = protect_flex()\n",
        "         line_bot_api.reply_message(tk,protect_list_)\n",
        "    else:\n",
        "      msg_reply = reply_msg(msg,user_id,line_bot_api,tk)\n",
        "      line_bot_api.reply_message(tk,TextSendMessage(text=msg_reply[0],quick_reply=msg_reply[1]))\n",
        "\n"
      ],
      "metadata": {
        "id": "jvb8dS6kxruw"
      },
      "execution_count": null,
      "outputs": []
    },
    {
      "cell_type": "code",
      "source": [
        "def quick_reply_menu (line_bot_api,tk,user_id,msg):\n",
        "\n",
        "    quick_reply_button = QuickReplyButton(\n",
        "        action=MessageAction(label=\"เมนู\", text=\"เมนู\")\n",
        "    )\n",
        "    quick_reply = QuickReply(\n",
        "        items=[quick_reply_button]\n",
        "    )\n",
        "    return line_bot_api.reply_message(tk, [TextSendMessage(quick_reply=quick_reply)])"
      ],
      "metadata": {
        "id": "MYdjhj8qOSKd"
      },
      "execution_count": null,
      "outputs": []
    },
    {
      "cell_type": "code",
      "source": [
        "\n",
        "def greeting_reply(line_bot_api,tk,result):\n",
        "   my_cypher = result\n",
        "   print(\"my_cypher\",result)\n",
        "   data = []\n",
        "   text_name =[]\n",
        "   quick_reply_buttons = []\n",
        "   with driver.session() as session:\n",
        "            for Qcypher in my_cypher:\n",
        "              result = session.run(Qcypher)\n",
        "              for record in result:\n",
        "                text_greeting = str(record['n.description'])\n",
        "                text_greeting1 = str(record['n.arkname'])\n",
        "                url_pattern = \"https://lh3.googleusercontent.com/d/\"+str(record['n.image'])\n",
        "                image_url=ImageSendMessage(original_content_url=url_pattern, preview_image_url=url_pattern)\n",
        "              print(\"url\",image_url)\n",
        "              quick_reply_button = QuickReplyButton(\n",
        "                  action=MessageAction(label=\"เมนู\", text=\"เมนู\")\n",
        "              )\n",
        "              quick_reply = QuickReply(\n",
        "                  items=[quick_reply_button]\n",
        "              )\n",
        "\n",
        "              return line_bot_api.reply_message(tk, [ image_url, TextSendMessage(text=text_greeting+text_greeting1, quick_reply=quick_reply)])\n",
        "\n"
      ],
      "metadata": {
        "id": "gKwQuGyqNQiz"
      },
      "execution_count": null,
      "outputs": []
    },
    {
      "cell_type": "code",
      "source": [
        "reply_msg(\"สวัสดีครับ\",\"Ucc3e077cff6d7f39dc73f1ead7cc39e0\",\"11\",\"11\")"
      ],
      "metadata": {
        "id": "_MuSDcjteuct"
      },
      "execution_count": null,
      "outputs": []
    },
    {
      "cell_type": "code",
      "source": [
        "from flask_ngrok import run_with_ngrok\n",
        "from flask import Flask, request\n",
        "\n",
        "from linebot import LineBotApi, WebhookHandler\n",
        "from linebot.exceptions import InvalidSignatureError\n",
        "from linebot.models import *\n",
        "\n",
        "\n",
        "import json\n",
        "\n",
        "app = Flask(__name__)\n",
        "\n",
        "@app.route(\"/\", methods=['POST'])\n",
        "def linebot():\n",
        "    body = request.get_data(as_text=True)\n",
        "    try:\n",
        "        json_data = json.loads(body)\n",
        "        access_token = '9mfCCWlnBGRerI71QYVkPimqooylc5T0MolaRYLbKJZZxuopqsp7BWH4YzDGgDkBGjISZnjhdZhcbRYDV77mmnZvpxkX/mZ7dn66V5+JQJF9EGA455n5gQyZBhuhs9DK3in8bmE+gszGubEJu5F+BwdB04t89/1O/w1cDnyilFU='\n",
        "        secret = '97f2925506d4cd50c9645bfc04fe9428'\n",
        "        line_bot_api = LineBotApi(access_token)\n",
        "        handler = WebhookHandler(secret)\n",
        "        signature = request.headers['X-Line-Signature']\n",
        "        handler.handle(body, signature)\n",
        "        msg = json_data['events'][0]['message']['text']\n",
        "        tk = json_data['events'][0]['replyToken']\n",
        "        user_id = json_data['events'][0]['source']['userId']\n",
        "        #msg_reply = reply_msg(msg,user_id)\n",
        "        #line_bot_api.reply_message(tk,TextSendMessage(text=msg_reply[0],quick_reply=msg_reply[1]))\n",
        "        reply_msg(line_bot_api,tk,user_id,msg)\n",
        "        print(msg, tk)\n",
        "        print(\"user_id\",user_id)\n",
        "\n",
        "    except:\n",
        "        print(body)\n",
        "    return 'OK'\n",
        "if __name__ == \"__main__\":\n",
        "  run_with_ngrok(app)\n",
        "  app.run()"
      ],
      "metadata": {
        "id": "o1xPBTU8GZsh",
        "colab": {
          "base_uri": "https://localhost:8080/"
        },
        "outputId": "2a8ac510-3bb5-4531-e923-d91abde691fa"
      },
      "execution_count": null,
      "outputs": [
        {
          "output_type": "stream",
          "name": "stdout",
          "text": [
            " * Serving Flask app '__main__'\n",
            " * Debug mode: off\n"
          ]
        },
        {
          "output_type": "stream",
          "name": "stderr",
          "text": [
            "INFO:werkzeug:\u001b[31m\u001b[1mWARNING: This is a development server. Do not use it in a production deployment. Use a production WSGI server instead.\u001b[0m\n",
            " * Running on http://127.0.0.1:5000\n",
            "INFO:werkzeug:\u001b[33mPress CTRL+C to quit\u001b[0m\n"
          ]
        },
        {
          "output_type": "stream",
          "name": "stdout",
          "text": [
            " * Running on http://a985-34-125-230-30.ngrok-free.app\n",
            " * Traffic stats available on http://127.0.0.1:4040\n"
          ]
        },
        {
          "output_type": "stream",
          "name": "stderr",
          "text": [
            "<ipython-input-42-2ccfac39e256>:20: LineBotSdkDeprecatedIn30: Call to deprecated class LineBotApi. (Use v3 class; linebot.v3.<feature>. See https://github.com/line/line-bot-sdk-python/blob/master/README.rst for more details.) -- Deprecated since version 3.0.0.\n",
            "  line_bot_api = LineBotApi(access_token)\n",
            "<ipython-input-42-2ccfac39e256>:21: LineBotSdkDeprecatedIn30: Call to deprecated class WebhookHandler. (Use 'from linebot.v3.webhook import WebhookHandler' instead. See https://github.com/line/line-bot-sdk-python/blob/master/README.rst for more details.) -- Deprecated since version 3.0.0.\n",
            "  handler = WebhookHandler(secret)\n",
            "INFO:werkzeug:127.0.0.1 - - [14/Jan/2024 08:37:17] \"POST / HTTP/1.1\" 200 -\n"
          ]
        },
        {
          "output_type": "stream",
          "name": "stdout",
          "text": [
            "{\"destination\":\"Uf71b9011a5c2ad615ac87975d3d66b26\",\"events\":[]}\n",
            "frow 5\n",
            "msg NCDsมีโรคอะไรบ้าง\n",
            "เรียก entity_if\n",
            "entity_score [0.66954374]\n",
            "relation_score [0.7325649]\n",
            "text_name ['โรคความดันโลหิตสูง']\n",
            "text_name ['โรคความดันโลหิตสูง', 'โรคหลอดเลือดสมอง']\n",
            "text_name ['โรคความดันโลหิตสูง', 'โรคหลอดเลือดสมอง', 'โรคสมองเสื่อม']\n",
            "text_name ['โรคความดันโลหิตสูง', 'โรคหลอดเลือดสมอง', 'โรคสมองเสื่อม', 'โรคไตเรื้อรัง']\n",
            "text_name ['โรคความดันโลหิตสูง', 'โรคหลอดเลือดสมอง', 'โรคสมองเสื่อม', 'โรคไตเรื้อรัง', 'โรคตับแข็ง']\n",
            "text_name ['โรคความดันโลหิตสูง', 'โรคหลอดเลือดสมอง', 'โรคสมองเสื่อม', 'โรคไตเรื้อรัง', 'โรคตับแข็ง', 'โรคมะเร็ง']\n",
            "text_name ['โรคความดันโลหิตสูง', 'โรคหลอดเลือดสมอง', 'โรคสมองเสื่อม', 'โรคไตเรื้อรัง', 'โรคตับแข็ง', 'โรคมะเร็ง', 'โรคอ้วน']\n",
            "text_name ['โรคความดันโลหิตสูง', 'โรคหลอดเลือดสมอง', 'โรคสมองเสื่อม', 'โรคไตเรื้อรัง', 'โรคตับแข็ง', 'โรคมะเร็ง', 'โรคอ้วน', 'โรคเบาหวาน']\n"
          ]
        },
        {
          "output_type": "stream",
          "name": "stderr",
          "text": [
            "<ipython-input-26-35e33286ddb4>:30: LineBotSdkDeprecatedIn30: Call to deprecated method reply_message. (Use 'from linebot.v3.messaging import MessagingApi' and 'MessagingApi(...).reply_message(...)' instead. See https://github.com/line/line-bot-sdk-python/blob/master/README.rst for more details.) -- Deprecated since version 3.0.0.\n",
            "  return line_bot_api.reply_message(tk, [TextSendMessage(text=text_message),TextSendMessage(text=text_name_str,quick_reply=quick_reply)])\n",
            "INFO:werkzeug:127.0.0.1 - - [14/Jan/2024 08:37:27] \"POST / HTTP/1.1\" 200 -\n"
          ]
        },
        {
          "output_type": "stream",
          "name": "stdout",
          "text": [
            "NCDsมีโรคอะไรบ้าง f32c4d2bde454fca979334ba74f90853\n",
            "user_id Ucc3e077cff6d7f39dc73f1ead7cc39e0\n",
            "frow 5\n",
            "msg ประเมินโรคเบาหวาน\n",
            "step 2\n",
            "actual_status_step 1\n",
            "n1 1\n",
            "text_neo เคย,ไม่\n",
            "words ['เคย', 'ไม่']\n"
          ]
        },
        {
          "output_type": "stream",
          "name": "stderr",
          "text": [
            "<ipython-input-23-afe3547e0c2b>:33: LineBotSdkDeprecatedIn30: Call to deprecated method reply_message. (Use 'from linebot.v3.messaging import MessagingApi' and 'MessagingApi(...).reply_message(...)' instead. See https://github.com/line/line-bot-sdk-python/blob/master/README.rst for more details.) -- Deprecated since version 3.0.0.\n",
            "  return line_bot_api.reply_message(tk, [TextSendMessage(text=text_neo_ac,quick_reply=quick_reply)])\n",
            "INFO:werkzeug:127.0.0.1 - - [14/Jan/2024 08:38:23] \"POST / HTTP/1.1\" 200 -\n"
          ]
        },
        {
          "output_type": "stream",
          "name": "stdout",
          "text": [
            "ประเมินโรคเบาหวาน 82cf29a5a21c4e82acd934e904161510\n",
            "user_id Ucc3e077cff6d7f39dc73f1ead7cc39e0\n",
            "frow 5\n",
            "msg เคย\n",
            "step 3\n",
            "actual_status_step 2\n",
            "text_neo มี,ไม่มี\n",
            "words ['มี', 'ไม่มี']\n"
          ]
        },
        {
          "output_type": "stream",
          "name": "stderr",
          "text": [
            "INFO:werkzeug:127.0.0.1 - - [14/Jan/2024 08:38:30] \"POST / HTTP/1.1\" 200 -\n"
          ]
        },
        {
          "output_type": "stream",
          "name": "stdout",
          "text": [
            "เคย 3cd084449b164d1aac888f29029a5f7a\n",
            "user_id Ucc3e077cff6d7f39dc73f1ead7cc39e0\n",
            "frow 5\n",
            "msg มี\n",
            "step 4\n",
            "actual_status_step 3\n",
            "text_neo ใช่,ไม่\n",
            "words ['ใช่', 'ไม่']\n"
          ]
        },
        {
          "output_type": "stream",
          "name": "stderr",
          "text": [
            "INFO:werkzeug:127.0.0.1 - - [14/Jan/2024 08:38:37] \"POST / HTTP/1.1\" 200 -\n"
          ]
        },
        {
          "output_type": "stream",
          "name": "stdout",
          "text": [
            "มี b7ad87772c46464db0d37f14f77c90bf\n",
            "user_id Ucc3e077cff6d7f39dc73f1ead7cc39e0\n",
            "frow 5\n",
            "msg ไม่\n",
            "step 5\n",
            "actual_status_step 4\n",
            "text_neo ใช่,ไม่\n",
            "words ['ใช่', 'ไม่']\n"
          ]
        },
        {
          "output_type": "stream",
          "name": "stderr",
          "text": [
            "INFO:werkzeug:127.0.0.1 - - [14/Jan/2024 08:38:50] \"POST / HTTP/1.1\" 200 -\n"
          ]
        },
        {
          "output_type": "stream",
          "name": "stdout",
          "text": [
            "ไม่ 7673f0d11ec94ee7906d3d2c23f5b80c\n",
            "user_id Ucc3e077cff6d7f39dc73f1ead7cc39e0\n",
            "frow 5\n",
            "msg ไม่ทราบ\n",
            "step 5\n",
            "actual_status_step 4\n",
            "text_neo ใช่,ไม่\n",
            "words ['ใช่', 'ไม่']\n"
          ]
        },
        {
          "output_type": "stream",
          "name": "stderr",
          "text": [
            "<ipython-input-23-afe3547e0c2b>:38: LineBotSdkDeprecatedIn30: Call to deprecated method reply_message. (Use 'from linebot.v3.messaging import MessagingApi' and 'MessagingApi(...).reply_message(...)' instead. See https://github.com/line/line-bot-sdk-python/blob/master/README.rst for more details.) -- Deprecated since version 3.0.0.\n",
            "  return line_bot_api.reply_message(tk, [TextSendMessage(text=text_loop),TextSendMessage(text=text_neo_loop,quick_reply=quick_reply)])\n",
            "INFO:werkzeug:127.0.0.1 - - [14/Jan/2024 08:39:03] \"POST / HTTP/1.1\" 200 -\n"
          ]
        },
        {
          "output_type": "stream",
          "name": "stdout",
          "text": [
            "ไม่ทราบ 7b97caba2dcd4a4683690b1b0f3a8172\n",
            "user_id Ucc3e077cff6d7f39dc73f1ead7cc39e0\n",
            "frow 5\n",
            "msg ไม่\n",
            "step None\n",
            "actual_status_step 5\n",
            "send_loop \n",
            "count_estimate 2\n"
          ]
        },
        {
          "output_type": "stream",
          "name": "stderr",
          "text": [
            "<ipython-input-24-f293e1987823>:18: LineBotSdkDeprecatedIn30: Call to deprecated method reply_message. (Use 'from linebot.v3.messaging import MessagingApi' and 'MessagingApi(...).reply_message(...)' instead. See https://github.com/line/line-bot-sdk-python/blob/master/README.rst for more details.) -- Deprecated since version 3.0.0.\n",
            "  return line_bot_api.reply_message(tk, TextSendMessage(text=text_neo,quick_reply=quick_reply))\n",
            "INFO:werkzeug:127.0.0.1 - - [14/Jan/2024 08:39:14] \"POST / HTTP/1.1\" 200 -\n"
          ]
        },
        {
          "output_type": "stream",
          "name": "stdout",
          "text": [
            "ไม่ 54be568bab3949f5b414bea82579a309\n",
            "user_id Ucc3e077cff6d7f39dc73f1ead7cc39e0\n",
            "frow 5\n",
            "msg สวัสดีครับ\n",
            "เรียก entity_if\n",
            "entity_score [0.57102233]\n",
            "relation_score [0.71697825]\n",
            "my_cypher [\"MATCH (n)-[r]->(p) where n.hello ='สวัสดี' return n.name,n.description,n.arkname,n.image\"]\n",
            "url {\"originalContentUrl\": \"https://lh3.googleusercontent.com/d/1JeR7p-TWWKuixhqy6KI594HuhHyV3RGG\", \"previewImageUrl\": \"https://lh3.googleusercontent.com/d/1JeR7p-TWWKuixhqy6KI594HuhHyV3RGG\", \"type\": \"image\"}\n"
          ]
        },
        {
          "output_type": "stream",
          "name": "stderr",
          "text": [
            "<ipython-input-36-140a4f7d20e1>:23: LineBotSdkDeprecatedIn30: Call to deprecated method reply_message. (Use 'from linebot.v3.messaging import MessagingApi' and 'MessagingApi(...).reply_message(...)' instead. See https://github.com/line/line-bot-sdk-python/blob/master/README.rst for more details.) -- Deprecated since version 3.0.0.\n",
            "  return line_bot_api.reply_message(tk, [ image_url, TextSendMessage(text=text_greeting+text_greeting1, quick_reply=quick_reply)])\n",
            "INFO:werkzeug:127.0.0.1 - - [14/Jan/2024 08:41:14] \"POST / HTTP/1.1\" 200 -\n"
          ]
        },
        {
          "output_type": "stream",
          "name": "stdout",
          "text": [
            "สวัสดีครับ 746b59d2bc314197b0e3af315d9c5d97\n",
            "user_id Ucc3e077cff6d7f39dc73f1ead7cc39e0\n",
            "frow 5\n",
            "msg เมนู\n"
          ]
        },
        {
          "output_type": "stream",
          "name": "stderr",
          "text": [
            "<ipython-input-34-327b851e4823>:6: LineBotSdkDeprecatedIn30: Call to deprecated method reply_message. (Use 'from linebot.v3.messaging import MessagingApi' and 'MessagingApi(...).reply_message(...)' instead. See https://github.com/line/line-bot-sdk-python/blob/master/README.rst for more details.) -- Deprecated since version 3.0.0.\n",
            "  line_bot_api.reply_message(tk,Carousel)\n",
            "INFO:werkzeug:127.0.0.1 - - [14/Jan/2024 08:41:18] \"POST / HTTP/1.1\" 200 -\n"
          ]
        },
        {
          "output_type": "stream",
          "name": "stdout",
          "text": [
            "เมนู c469cdd9a7a44345a65951d625aa919f\n",
            "user_id Ucc3e077cff6d7f39dc73f1ead7cc39e0\n",
            "frow 5\n",
            "msg สอบถาม\n"
          ]
        },
        {
          "output_type": "stream",
          "name": "stderr",
          "text": [
            "<ipython-input-34-327b851e4823>:14: LineBotSdkDeprecatedIn30: Call to deprecated method reply_message. (Use 'from linebot.v3.messaging import MessagingApi' and 'MessagingApi(...).reply_message(...)' instead. See https://github.com/line/line-bot-sdk-python/blob/master/README.rst for more details.) -- Deprecated since version 3.0.0.\n",
            "  line_bot_api.reply_message(tk,ask_question)\n",
            "INFO:werkzeug:127.0.0.1 - - [14/Jan/2024 08:41:25] \"POST / HTTP/1.1\" 200 -\n"
          ]
        },
        {
          "output_type": "stream",
          "name": "stdout",
          "text": [
            "สอบถาม bed65933d4d74803ac9f9ed57e1f195b\n",
            "user_id Ucc3e077cff6d7f39dc73f1ead7cc39e0\n",
            "frow 5\n",
            "msg ประเมิน\n"
          ]
        },
        {
          "output_type": "stream",
          "name": "stderr",
          "text": [
            "<ipython-input-34-327b851e4823>:10: LineBotSdkDeprecatedIn30: Call to deprecated method reply_message. (Use 'from linebot.v3.messaging import MessagingApi' and 'MessagingApi(...).reply_message(...)' instead. See https://github.com/line/line-bot-sdk-python/blob/master/README.rst for more details.) -- Deprecated since version 3.0.0.\n",
            "  line_bot_api.reply_message(tk,flex)\n",
            "INFO:werkzeug:127.0.0.1 - - [14/Jan/2024 08:41:32] \"POST / HTTP/1.1\" 200 -\n"
          ]
        },
        {
          "output_type": "stream",
          "name": "stdout",
          "text": [
            "ประเมิน 4b11ab49725a4ccead8f3fe4902b2392\n",
            "user_id Ucc3e077cff6d7f39dc73f1ead7cc39e0\n",
            "frow 5\n",
            "msg สมุนไพร\n"
          ]
        },
        {
          "output_type": "stream",
          "name": "stderr",
          "text": [
            "INFO:werkzeug:127.0.0.1 - - [14/Jan/2024 08:41:40] \"POST / HTTP/1.1\" 200 -\n"
          ]
        },
        {
          "output_type": "stream",
          "name": "stdout",
          "text": [
            "สมุนไพร 2ae3153c4c054fd993e112118c893fdb\n",
            "user_id Ucc3e077cff6d7f39dc73f1ead7cc39e0\n",
            "frow 5\n",
            "msg สมุนไพรโรคเบาหวาน\n",
            "เรียก entity_if\n",
            "entity_score [0.7946841]\n",
            "relation_score [0.98936397]\n",
            "text_name ['มะระขี้นก']\n",
            "text_name ['มะระขี้นก', 'ขี้เหล็ก']\n",
            "text_name ['มะระขี้นก', 'ขี้เหล็ก', 'ตำลึง']\n",
            "text_name ['มะระขี้นก', 'ขี้เหล็ก', 'ตำลึง', 'มะเขือพวง']\n",
            "text_name ['มะระขี้นก', 'ขี้เหล็ก', 'ตำลึง', 'มะเขือพวง', 'ว่านหางจระเข้']\n"
          ]
        },
        {
          "output_type": "stream",
          "name": "stderr",
          "text": [
            "INFO:werkzeug:127.0.0.1 - - [14/Jan/2024 08:41:45] \"POST / HTTP/1.1\" 200 -\n"
          ]
        },
        {
          "output_type": "stream",
          "name": "stdout",
          "text": [
            "สมุนไพรโรคเบาหวาน d8be110b57664e2dad6c0063f9af3521\n",
            "user_id Ucc3e077cff6d7f39dc73f1ead7cc39e0\n",
            "frow 5\n",
            "msg มะระขี้นก\n",
            "เรียก entity_if\n",
            "entity_score [1.]\n",
            "relation_score [0.49928382]\n",
            "เข้า entity_Res\n",
            "image\n"
          ]
        },
        {
          "output_type": "stream",
          "name": "stderr",
          "text": [
            "INFO:werkzeug:127.0.0.1 - - [14/Jan/2024 08:41:51] \"POST / HTTP/1.1\" 200 -\n"
          ]
        },
        {
          "output_type": "stream",
          "name": "stdout",
          "text": [
            "มะระขี้นก 29aaa076d18d411b81ba93b4952a5eba\n",
            "user_id Ucc3e077cff6d7f39dc73f1ead7cc39e0\n",
            "frow 5\n",
            "msg เมนู\n"
          ]
        },
        {
          "output_type": "stream",
          "name": "stderr",
          "text": [
            "INFO:werkzeug:127.0.0.1 - - [14/Jan/2024 08:41:58] \"POST / HTTP/1.1\" 200 -\n"
          ]
        },
        {
          "output_type": "stream",
          "name": "stdout",
          "text": [
            "เมนู de3a8f8fca8c443f87301d5b0219a6b6\n",
            "user_id Ucc3e077cff6d7f39dc73f1ead7cc39e0\n",
            "frow 5\n",
            "msg สอบถาม\n"
          ]
        },
        {
          "output_type": "stream",
          "name": "stderr",
          "text": [
            "INFO:werkzeug:127.0.0.1 - - [14/Jan/2024 08:42:02] \"POST / HTTP/1.1\" 200 -\n"
          ]
        },
        {
          "output_type": "stream",
          "name": "stdout",
          "text": [
            "สอบถาม 3a6dbbc5005c4afcb18f7b1f453f2f8e\n",
            "user_id Ucc3e077cff6d7f39dc73f1ead7cc39e0\n",
            "frow 5\n",
            "msg NCDsมีโรคอะไรบ้าง\n",
            "เรียก entity_if\n",
            "entity_score [0.66954374]\n",
            "relation_score [0.7325649]\n",
            "text_name ['โรคความดันโลหิตสูง']\n",
            "text_name ['โรคความดันโลหิตสูง', 'โรคหลอดเลือดสมอง']\n",
            "text_name ['โรคความดันโลหิตสูง', 'โรคหลอดเลือดสมอง', 'โรคสมองเสื่อม']\n",
            "text_name ['โรคความดันโลหิตสูง', 'โรคหลอดเลือดสมอง', 'โรคสมองเสื่อม', 'โรคไตเรื้อรัง']\n",
            "text_name ['โรคความดันโลหิตสูง', 'โรคหลอดเลือดสมอง', 'โรคสมองเสื่อม', 'โรคไตเรื้อรัง', 'โรคตับแข็ง']\n",
            "text_name ['โรคความดันโลหิตสูง', 'โรคหลอดเลือดสมอง', 'โรคสมองเสื่อม', 'โรคไตเรื้อรัง', 'โรคตับแข็ง', 'โรคมะเร็ง']\n",
            "text_name ['โรคความดันโลหิตสูง', 'โรคหลอดเลือดสมอง', 'โรคสมองเสื่อม', 'โรคไตเรื้อรัง', 'โรคตับแข็ง', 'โรคมะเร็ง', 'โรคอ้วน']\n",
            "text_name ['โรคความดันโลหิตสูง', 'โรคหลอดเลือดสมอง', 'โรคสมองเสื่อม', 'โรคไตเรื้อรัง', 'โรคตับแข็ง', 'โรคมะเร็ง', 'โรคอ้วน', 'โรคเบาหวาน']\n"
          ]
        },
        {
          "output_type": "stream",
          "name": "stderr",
          "text": [
            "INFO:werkzeug:127.0.0.1 - - [14/Jan/2024 08:42:07] \"POST / HTTP/1.1\" 200 -\n"
          ]
        },
        {
          "output_type": "stream",
          "name": "stdout",
          "text": [
            "NCDsมีโรคอะไรบ้าง 8dbff379dd95448f9f8f4e0b846182c0\n",
            "user_id Ucc3e077cff6d7f39dc73f1ead7cc39e0\n",
            "frow 5\n",
            "msg สวัสดีครับ\n",
            "เรียก entity_if\n",
            "entity_score [0.57102233]\n",
            "relation_score [0.71697825]\n",
            "my_cypher [\"MATCH (n)-[r]->(p) where n.hello ='สวัสดี' return n.name,n.description,n.arkname,n.image\"]\n",
            "url {\"originalContentUrl\": \"https://lh3.googleusercontent.com/d/1JeR7p-TWWKuixhqy6KI594HuhHyV3RGG\", \"previewImageUrl\": \"https://lh3.googleusercontent.com/d/1JeR7p-TWWKuixhqy6KI594HuhHyV3RGG\", \"type\": \"image\"}\n"
          ]
        },
        {
          "output_type": "stream",
          "name": "stderr",
          "text": [
            "INFO:werkzeug:127.0.0.1 - - [14/Jan/2024 08:44:19] \"POST / HTTP/1.1\" 200 -\n"
          ]
        },
        {
          "output_type": "stream",
          "name": "stdout",
          "text": [
            "สวัสดีครับ 6680e31549e241a58ee623aecf69fdd2\n",
            "user_id Ucc3e077cff6d7f39dc73f1ead7cc39e0\n",
            "frow 5\n",
            "msg เมนู\n"
          ]
        },
        {
          "output_type": "stream",
          "name": "stderr",
          "text": [
            "INFO:werkzeug:127.0.0.1 - - [14/Jan/2024 08:44:23] \"POST / HTTP/1.1\" 200 -\n"
          ]
        },
        {
          "output_type": "stream",
          "name": "stdout",
          "text": [
            "เมนู c05e691b77cd47568e824ef23b4bc082\n",
            "user_id Ucc3e077cff6d7f39dc73f1ead7cc39e0\n",
            "frow 5\n",
            "msg สอบถาม\n"
          ]
        },
        {
          "output_type": "stream",
          "name": "stderr",
          "text": [
            "INFO:werkzeug:127.0.0.1 - - [14/Jan/2024 08:44:34] \"POST / HTTP/1.1\" 200 -\n"
          ]
        },
        {
          "output_type": "stream",
          "name": "stdout",
          "text": [
            "สอบถาม b5f19cbfa3164fc790d397966b66ed65\n",
            "user_id Ucc3e077cff6d7f39dc73f1ead7cc39e0\n",
            "frow 5\n",
            "msg ประเมิน\n"
          ]
        },
        {
          "output_type": "stream",
          "name": "stderr",
          "text": [
            "INFO:werkzeug:127.0.0.1 - - [14/Jan/2024 08:44:42] \"POST / HTTP/1.1\" 200 -\n"
          ]
        },
        {
          "output_type": "stream",
          "name": "stdout",
          "text": [
            "ประเมิน 3c1427e2024c437595c83969b4be2560\n",
            "user_id Ucc3e077cff6d7f39dc73f1ead7cc39e0\n",
            "frow 5\n",
            "msg สมุนไพร\n"
          ]
        },
        {
          "output_type": "stream",
          "name": "stderr",
          "text": [
            "INFO:werkzeug:127.0.0.1 - - [14/Jan/2024 08:44:51] \"POST / HTTP/1.1\" 200 -\n"
          ]
        },
        {
          "output_type": "stream",
          "name": "stdout",
          "text": [
            "สมุนไพร 52edc10d53ef4d2396016083a3e9b7d5\n",
            "user_id Ucc3e077cff6d7f39dc73f1ead7cc39e0\n",
            "frow 5\n",
            "msg สมุนไพรโรคเบาหวาน\n",
            "เรียก entity_if\n",
            "entity_score [0.7946841]\n",
            "relation_score [0.98936397]\n",
            "text_name ['มะระขี้นก']\n",
            "text_name ['มะระขี้นก', 'ขี้เหล็ก']\n",
            "text_name ['มะระขี้นก', 'ขี้เหล็ก', 'ตำลึง']\n",
            "text_name ['มะระขี้นก', 'ขี้เหล็ก', 'ตำลึง', 'มะเขือพวง']\n",
            "text_name ['มะระขี้นก', 'ขี้เหล็ก', 'ตำลึง', 'มะเขือพวง', 'ว่านหางจระเข้']\n"
          ]
        },
        {
          "output_type": "stream",
          "name": "stderr",
          "text": [
            "INFO:werkzeug:127.0.0.1 - - [14/Jan/2024 08:44:58] \"POST / HTTP/1.1\" 200 -\n"
          ]
        },
        {
          "output_type": "stream",
          "name": "stdout",
          "text": [
            "สมุนไพรโรคเบาหวาน 7b696b59c9d44e619ca49f2014dfaeda\n",
            "user_id Ucc3e077cff6d7f39dc73f1ead7cc39e0\n",
            "frow 5\n",
            "msg มะระขี้นก\n",
            "เรียก entity_if\n",
            "entity_score [1.]\n",
            "relation_score [0.49928382]\n",
            "เข้า entity_Res\n",
            "image\n"
          ]
        },
        {
          "output_type": "stream",
          "name": "stderr",
          "text": [
            "INFO:werkzeug:127.0.0.1 - - [14/Jan/2024 08:45:03] \"POST / HTTP/1.1\" 200 -\n"
          ]
        },
        {
          "output_type": "stream",
          "name": "stdout",
          "text": [
            "มะระขี้นก c5baf4fd76c94de1988bd84b7afc8f74\n",
            "user_id Ucc3e077cff6d7f39dc73f1ead7cc39e0\n",
            "frow 5\n",
            "msg เมนู\n"
          ]
        },
        {
          "output_type": "stream",
          "name": "stderr",
          "text": [
            "INFO:werkzeug:127.0.0.1 - - [14/Jan/2024 08:45:11] \"POST / HTTP/1.1\" 200 -\n"
          ]
        },
        {
          "output_type": "stream",
          "name": "stdout",
          "text": [
            "เมนู 446f31786e3641f29930a55edb0749eb\n",
            "user_id Ucc3e077cff6d7f39dc73f1ead7cc39e0\n",
            "frow 5\n",
            "msg อาการโรคเบาหวานมีอะไรบ้าง\n",
            "เรียก entity_if\n",
            "entity_score [0.89325917]\n",
            "relation_score [0.90937304]\n",
            "text_name ['ชาตามปลายนิ้วมือและนิ้วเท้า']\n",
            "text_name ['ชาตามปลายนิ้วมือและนิ้วเท้า', 'ตาพร่ามัว']\n",
            "text_name ['ชาตามปลายนิ้วมือและนิ้วเท้า', 'ตาพร่ามัว', 'น้ำหนักลด']\n",
            "text_name ['ชาตามปลายนิ้วมือและนิ้วเท้า', 'ตาพร่ามัว', 'น้ำหนักลด', 'ปัสสาวะบ่อยขึ้นหิวน้ำมากขึ้น']\n",
            "text_name ['ชาตามปลายนิ้วมือและนิ้วเท้า', 'ตาพร่ามัว', 'น้ำหนักลด', 'ปัสสาวะบ่อยขึ้นหิวน้ำมากขึ้น', 'อ่อนเพลีย']\n"
          ]
        },
        {
          "output_type": "stream",
          "name": "stderr",
          "text": [
            "INFO:werkzeug:127.0.0.1 - - [14/Jan/2024 08:45:30] \"POST / HTTP/1.1\" 200 -\n"
          ]
        },
        {
          "output_type": "stream",
          "name": "stdout",
          "text": [
            "อาการโรคเบาหวานมีอะไรบ้าง 786202843ba44c09b4918550139e825d\n",
            "user_id Ucc3e077cff6d7f39dc73f1ead7cc39e0\n"
          ]
        }
      ]
    }
  ]
}